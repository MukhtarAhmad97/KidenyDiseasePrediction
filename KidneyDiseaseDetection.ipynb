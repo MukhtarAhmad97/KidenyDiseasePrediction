{
  "nbformat": 4,
  "nbformat_minor": 0,
  "metadata": {
    "colab": {
      "name": "KidneyDiseaseDetection.ipynb",
      "provenance": [],
      "collapsed_sections": [],
      "include_colab_link": true
    },
    "kernelspec": {
      "name": "python3",
      "display_name": "Python 3"
    }
  },
  "cells": [
    {
      "cell_type": "markdown",
      "metadata": {
        "id": "view-in-github",
        "colab_type": "text"
      },
      "source": [
        "<a href=\"https://colab.research.google.com/github/MukhtarAqalmand/KidenyDiseasePrediction/blob/main/KidneyDiseaseDetection.ipynb\" target=\"_parent\"><img src=\"https://colab.research.google.com/assets/colab-badge.svg\" alt=\"Open In Colab\"/></a>"
      ]
    },
    {
      "cell_type": "code",
      "metadata": {
        "id": "7IQzbPHA3bk5"
      },
      "source": [
        "#Probability Assignment"
      ],
      "execution_count": null,
      "outputs": []
    },
    {
      "cell_type": "markdown",
      "metadata": {
        "id": "odY_TkeP5iRx"
      },
      "source": [
        "#Problem Statement\n",
        "Diseases are medical conditions associated with some symptoms and signs. For most diseases, detecting and diagnosing them at an early stage can save someone’s life. For example, the 5-year survival  rate for women diagnosed with cervical cancer before it has spread is 92%, compared to 15% for cervical cancer diagnosed at a later stage.iThe current COVID situation has also taught us that infections don’t only spread individually but also through communities. This prompts us to build expert systems and inference engines that can infer probable outcomes and results based on previous data such as recognized symptoms, demographic information, spread rate, geographical information, previously diagnosed conditions, current diseases, etc. While the task of building such an expert system may seem daunting as first, the mathematics behind these models is entirely based on probabilities and statistics. In this project, we will build an  expert  system  using  probabilistic  decision  trees  and  Bayesian  Inference  on  a  real-world problem. The choice of problem is open-ended but it should be relevant to the medicaldomain.  For example, you can assume a problem:•Where you’re asked to infer whether a person suffers from a certain condition given his demographic information, test results, symptoms, based on past prior information.•Decide which areas to put into complete lockdown to prevent virus outbreak. The priordata  can  include  infection  rate,  population  demographics,  health  provider  standards, common diseases and health information, past trends, infections in neighboring areas, etc.\n",
        "While the task of building such an expert system may seem daunting as first, the mathematics behind these models is entirely based on probabilities and statistics. In this project, we will build an  expert  system  using  probabilistic  decision  trees  and  Bayesian  Inference  on  a  real-world problem. The choice of problem is open-ended but it should be relevant to the medicaldomain.  \n",
        "For example, you can assume a problem:\n",
        "- Where you’re asked to infer whether a person suffers from a certain condition given his demographic information, test results, symptoms, based on past prior information.\n",
        "- Decide which areas to put into complete lockdown to prevent virus outbreak. The priordata  can  include  infection  rate,  population  demographics,  health  provider  standards, common diseases and health information, past trends, infections in neighboring areas, etc."
      ]
    },
    {
      "cell_type": "code",
      "metadata": {
        "id": "oV3kTnuB4TSr"
      },
      "source": [
        "#importing libraries for the assignment\n",
        "import numpy as np # linear algebra\n",
        "import pandas as pd # data processing, CSV file I/O \n",
        "\n",
        "import matplotlib.pyplot as plt\n",
        "import pylab as pl\n",
        "\n",
        "from sklearn.model_selection import train_test_split\n",
        "from sklearn.feature_selection import VarianceThreshold\n",
        "\n",
        "# Decision Tree\n",
        "from sklearn.tree import DecisionTreeClassifier \n",
        "from sklearn import datasets\n",
        "\n",
        "import scipy.stats as ss\n",
        "import seaborn as sns; sns.set()\n",
        "\n",
        "import pydotplus\n",
        "\n",
        "from google.colab import drive\n"
      ],
      "execution_count": null,
      "outputs": []
    },
    {
      "cell_type": "markdown",
      "metadata": {
        "id": "HgFklReh6WBC"
      },
      "source": [
        "\n",
        "\n",
        "---\n",
        "\n",
        "#**Step:1**\n",
        "- Get  a  dataset,  which  will  serve  as  prior  factual  information.  You  can  head  on  to https://www.kaggle.comto download a dataset relevant to your defined problem. Most datasets are in CSV (Comma SeparatedValues) format."
      ]
    },
    {
      "cell_type": "markdown",
      "metadata": {
        "id": "1KsWoNDVTGuR"
      },
      "source": [
        "Data Set for kidney disease taken from https://www.kaggle.com/mansoordaku/ckdisease\n"
      ]
    },
    {
      "cell_type": "code",
      "metadata": {
        "colab": {
          "base_uri": "https://localhost:8080/"
        },
        "id": "K8NKHTyO5MhE",
        "outputId": "80e65acb-2fc8-4ae5-d641-cab210e9115e"
      },
      "source": [
        "\n",
        "drive.mount('/content/gdrive')\n",
        "data = pd.read_csv('/content/gdrive/My Drive/Probability_CEP/kidney_disease.csv')"
      ],
      "execution_count": null,
      "outputs": [
        {
          "output_type": "stream",
          "text": [
            "Mounted at /content/gdrive\n"
          ],
          "name": "stdout"
        }
      ]
    },
    {
      "cell_type": "code",
      "metadata": {
        "colab": {
          "base_uri": "https://localhost:8080/",
          "height": 379
        },
        "id": "pJW_Kw0eT-5A",
        "outputId": "fc4c40a0-6357-46d6-be73-87801887d262"
      },
      "source": [
        "#Check the 10 samples of train data\n",
        "data.head(10)"
      ],
      "execution_count": null,
      "outputs": [
        {
          "output_type": "execute_result",
          "data": {
            "text/html": [
              "<div>\n",
              "<style scoped>\n",
              "    .dataframe tbody tr th:only-of-type {\n",
              "        vertical-align: middle;\n",
              "    }\n",
              "\n",
              "    .dataframe tbody tr th {\n",
              "        vertical-align: top;\n",
              "    }\n",
              "\n",
              "    .dataframe thead th {\n",
              "        text-align: right;\n",
              "    }\n",
              "</style>\n",
              "<table border=\"1\" class=\"dataframe\">\n",
              "  <thead>\n",
              "    <tr style=\"text-align: right;\">\n",
              "      <th></th>\n",
              "      <th>id</th>\n",
              "      <th>age</th>\n",
              "      <th>bp</th>\n",
              "      <th>sg</th>\n",
              "      <th>al</th>\n",
              "      <th>su</th>\n",
              "      <th>rbc</th>\n",
              "      <th>pc</th>\n",
              "      <th>pcc</th>\n",
              "      <th>ba</th>\n",
              "      <th>bgr</th>\n",
              "      <th>bu</th>\n",
              "      <th>sc</th>\n",
              "      <th>sod</th>\n",
              "      <th>pot</th>\n",
              "      <th>hemo</th>\n",
              "      <th>pcv</th>\n",
              "      <th>wc</th>\n",
              "      <th>rc</th>\n",
              "      <th>htn</th>\n",
              "      <th>dm</th>\n",
              "      <th>cad</th>\n",
              "      <th>appet</th>\n",
              "      <th>pe</th>\n",
              "      <th>ane</th>\n",
              "      <th>classification</th>\n",
              "    </tr>\n",
              "  </thead>\n",
              "  <tbody>\n",
              "    <tr>\n",
              "      <th>0</th>\n",
              "      <td>0</td>\n",
              "      <td>48.0</td>\n",
              "      <td>80.0</td>\n",
              "      <td>1.020</td>\n",
              "      <td>1.0</td>\n",
              "      <td>0.0</td>\n",
              "      <td>NaN</td>\n",
              "      <td>normal</td>\n",
              "      <td>notpresent</td>\n",
              "      <td>notpresent</td>\n",
              "      <td>121.0</td>\n",
              "      <td>36.0</td>\n",
              "      <td>1.2</td>\n",
              "      <td>NaN</td>\n",
              "      <td>NaN</td>\n",
              "      <td>15.4</td>\n",
              "      <td>44</td>\n",
              "      <td>7800</td>\n",
              "      <td>5.2</td>\n",
              "      <td>yes</td>\n",
              "      <td>yes</td>\n",
              "      <td>no</td>\n",
              "      <td>good</td>\n",
              "      <td>no</td>\n",
              "      <td>no</td>\n",
              "      <td>ckd</td>\n",
              "    </tr>\n",
              "    <tr>\n",
              "      <th>1</th>\n",
              "      <td>1</td>\n",
              "      <td>7.0</td>\n",
              "      <td>50.0</td>\n",
              "      <td>1.020</td>\n",
              "      <td>4.0</td>\n",
              "      <td>0.0</td>\n",
              "      <td>NaN</td>\n",
              "      <td>normal</td>\n",
              "      <td>notpresent</td>\n",
              "      <td>notpresent</td>\n",
              "      <td>NaN</td>\n",
              "      <td>18.0</td>\n",
              "      <td>0.8</td>\n",
              "      <td>NaN</td>\n",
              "      <td>NaN</td>\n",
              "      <td>11.3</td>\n",
              "      <td>38</td>\n",
              "      <td>6000</td>\n",
              "      <td>NaN</td>\n",
              "      <td>no</td>\n",
              "      <td>no</td>\n",
              "      <td>no</td>\n",
              "      <td>good</td>\n",
              "      <td>no</td>\n",
              "      <td>no</td>\n",
              "      <td>ckd</td>\n",
              "    </tr>\n",
              "    <tr>\n",
              "      <th>2</th>\n",
              "      <td>2</td>\n",
              "      <td>62.0</td>\n",
              "      <td>80.0</td>\n",
              "      <td>1.010</td>\n",
              "      <td>2.0</td>\n",
              "      <td>3.0</td>\n",
              "      <td>normal</td>\n",
              "      <td>normal</td>\n",
              "      <td>notpresent</td>\n",
              "      <td>notpresent</td>\n",
              "      <td>423.0</td>\n",
              "      <td>53.0</td>\n",
              "      <td>1.8</td>\n",
              "      <td>NaN</td>\n",
              "      <td>NaN</td>\n",
              "      <td>9.6</td>\n",
              "      <td>31</td>\n",
              "      <td>7500</td>\n",
              "      <td>NaN</td>\n",
              "      <td>no</td>\n",
              "      <td>yes</td>\n",
              "      <td>no</td>\n",
              "      <td>poor</td>\n",
              "      <td>no</td>\n",
              "      <td>yes</td>\n",
              "      <td>ckd</td>\n",
              "    </tr>\n",
              "    <tr>\n",
              "      <th>3</th>\n",
              "      <td>3</td>\n",
              "      <td>48.0</td>\n",
              "      <td>70.0</td>\n",
              "      <td>1.005</td>\n",
              "      <td>4.0</td>\n",
              "      <td>0.0</td>\n",
              "      <td>normal</td>\n",
              "      <td>abnormal</td>\n",
              "      <td>present</td>\n",
              "      <td>notpresent</td>\n",
              "      <td>117.0</td>\n",
              "      <td>56.0</td>\n",
              "      <td>3.8</td>\n",
              "      <td>111.0</td>\n",
              "      <td>2.5</td>\n",
              "      <td>11.2</td>\n",
              "      <td>32</td>\n",
              "      <td>6700</td>\n",
              "      <td>3.9</td>\n",
              "      <td>yes</td>\n",
              "      <td>no</td>\n",
              "      <td>no</td>\n",
              "      <td>poor</td>\n",
              "      <td>yes</td>\n",
              "      <td>yes</td>\n",
              "      <td>ckd</td>\n",
              "    </tr>\n",
              "    <tr>\n",
              "      <th>4</th>\n",
              "      <td>4</td>\n",
              "      <td>51.0</td>\n",
              "      <td>80.0</td>\n",
              "      <td>1.010</td>\n",
              "      <td>2.0</td>\n",
              "      <td>0.0</td>\n",
              "      <td>normal</td>\n",
              "      <td>normal</td>\n",
              "      <td>notpresent</td>\n",
              "      <td>notpresent</td>\n",
              "      <td>106.0</td>\n",
              "      <td>26.0</td>\n",
              "      <td>1.4</td>\n",
              "      <td>NaN</td>\n",
              "      <td>NaN</td>\n",
              "      <td>11.6</td>\n",
              "      <td>35</td>\n",
              "      <td>7300</td>\n",
              "      <td>4.6</td>\n",
              "      <td>no</td>\n",
              "      <td>no</td>\n",
              "      <td>no</td>\n",
              "      <td>good</td>\n",
              "      <td>no</td>\n",
              "      <td>no</td>\n",
              "      <td>ckd</td>\n",
              "    </tr>\n",
              "    <tr>\n",
              "      <th>5</th>\n",
              "      <td>5</td>\n",
              "      <td>60.0</td>\n",
              "      <td>90.0</td>\n",
              "      <td>1.015</td>\n",
              "      <td>3.0</td>\n",
              "      <td>0.0</td>\n",
              "      <td>NaN</td>\n",
              "      <td>NaN</td>\n",
              "      <td>notpresent</td>\n",
              "      <td>notpresent</td>\n",
              "      <td>74.0</td>\n",
              "      <td>25.0</td>\n",
              "      <td>1.1</td>\n",
              "      <td>142.0</td>\n",
              "      <td>3.2</td>\n",
              "      <td>12.2</td>\n",
              "      <td>39</td>\n",
              "      <td>7800</td>\n",
              "      <td>4.4</td>\n",
              "      <td>yes</td>\n",
              "      <td>yes</td>\n",
              "      <td>no</td>\n",
              "      <td>good</td>\n",
              "      <td>yes</td>\n",
              "      <td>no</td>\n",
              "      <td>ckd</td>\n",
              "    </tr>\n",
              "    <tr>\n",
              "      <th>6</th>\n",
              "      <td>6</td>\n",
              "      <td>68.0</td>\n",
              "      <td>70.0</td>\n",
              "      <td>1.010</td>\n",
              "      <td>0.0</td>\n",
              "      <td>0.0</td>\n",
              "      <td>NaN</td>\n",
              "      <td>normal</td>\n",
              "      <td>notpresent</td>\n",
              "      <td>notpresent</td>\n",
              "      <td>100.0</td>\n",
              "      <td>54.0</td>\n",
              "      <td>24.0</td>\n",
              "      <td>104.0</td>\n",
              "      <td>4.0</td>\n",
              "      <td>12.4</td>\n",
              "      <td>36</td>\n",
              "      <td>NaN</td>\n",
              "      <td>NaN</td>\n",
              "      <td>no</td>\n",
              "      <td>no</td>\n",
              "      <td>no</td>\n",
              "      <td>good</td>\n",
              "      <td>no</td>\n",
              "      <td>no</td>\n",
              "      <td>ckd</td>\n",
              "    </tr>\n",
              "    <tr>\n",
              "      <th>7</th>\n",
              "      <td>7</td>\n",
              "      <td>24.0</td>\n",
              "      <td>NaN</td>\n",
              "      <td>1.015</td>\n",
              "      <td>2.0</td>\n",
              "      <td>4.0</td>\n",
              "      <td>normal</td>\n",
              "      <td>abnormal</td>\n",
              "      <td>notpresent</td>\n",
              "      <td>notpresent</td>\n",
              "      <td>410.0</td>\n",
              "      <td>31.0</td>\n",
              "      <td>1.1</td>\n",
              "      <td>NaN</td>\n",
              "      <td>NaN</td>\n",
              "      <td>12.4</td>\n",
              "      <td>44</td>\n",
              "      <td>6900</td>\n",
              "      <td>5</td>\n",
              "      <td>no</td>\n",
              "      <td>yes</td>\n",
              "      <td>no</td>\n",
              "      <td>good</td>\n",
              "      <td>yes</td>\n",
              "      <td>no</td>\n",
              "      <td>ckd</td>\n",
              "    </tr>\n",
              "    <tr>\n",
              "      <th>8</th>\n",
              "      <td>8</td>\n",
              "      <td>52.0</td>\n",
              "      <td>100.0</td>\n",
              "      <td>1.015</td>\n",
              "      <td>3.0</td>\n",
              "      <td>0.0</td>\n",
              "      <td>normal</td>\n",
              "      <td>abnormal</td>\n",
              "      <td>present</td>\n",
              "      <td>notpresent</td>\n",
              "      <td>138.0</td>\n",
              "      <td>60.0</td>\n",
              "      <td>1.9</td>\n",
              "      <td>NaN</td>\n",
              "      <td>NaN</td>\n",
              "      <td>10.8</td>\n",
              "      <td>33</td>\n",
              "      <td>9600</td>\n",
              "      <td>4.0</td>\n",
              "      <td>yes</td>\n",
              "      <td>yes</td>\n",
              "      <td>no</td>\n",
              "      <td>good</td>\n",
              "      <td>no</td>\n",
              "      <td>yes</td>\n",
              "      <td>ckd</td>\n",
              "    </tr>\n",
              "    <tr>\n",
              "      <th>9</th>\n",
              "      <td>9</td>\n",
              "      <td>53.0</td>\n",
              "      <td>90.0</td>\n",
              "      <td>1.020</td>\n",
              "      <td>2.0</td>\n",
              "      <td>0.0</td>\n",
              "      <td>abnormal</td>\n",
              "      <td>abnormal</td>\n",
              "      <td>present</td>\n",
              "      <td>notpresent</td>\n",
              "      <td>70.0</td>\n",
              "      <td>107.0</td>\n",
              "      <td>7.2</td>\n",
              "      <td>114.0</td>\n",
              "      <td>3.7</td>\n",
              "      <td>9.5</td>\n",
              "      <td>29</td>\n",
              "      <td>12100</td>\n",
              "      <td>3.7</td>\n",
              "      <td>yes</td>\n",
              "      <td>yes</td>\n",
              "      <td>no</td>\n",
              "      <td>poor</td>\n",
              "      <td>no</td>\n",
              "      <td>yes</td>\n",
              "      <td>ckd</td>\n",
              "    </tr>\n",
              "  </tbody>\n",
              "</table>\n",
              "</div>"
            ],
            "text/plain": [
              "   id   age     bp     sg   al   su  ...   dm cad appet   pe  ane  classification\n",
              "0   0  48.0   80.0  1.020  1.0  0.0  ...  yes  no  good   no   no             ckd\n",
              "1   1   7.0   50.0  1.020  4.0  0.0  ...   no  no  good   no   no             ckd\n",
              "2   2  62.0   80.0  1.010  2.0  3.0  ...  yes  no  poor   no  yes             ckd\n",
              "3   3  48.0   70.0  1.005  4.0  0.0  ...   no  no  poor  yes  yes             ckd\n",
              "4   4  51.0   80.0  1.010  2.0  0.0  ...   no  no  good   no   no             ckd\n",
              "5   5  60.0   90.0  1.015  3.0  0.0  ...  yes  no  good  yes   no             ckd\n",
              "6   6  68.0   70.0  1.010  0.0  0.0  ...   no  no  good   no   no             ckd\n",
              "7   7  24.0    NaN  1.015  2.0  4.0  ...  yes  no  good  yes   no             ckd\n",
              "8   8  52.0  100.0  1.015  3.0  0.0  ...  yes  no  good   no  yes             ckd\n",
              "9   9  53.0   90.0  1.020  2.0  0.0  ...  yes  no  poor   no  yes             ckd\n",
              "\n",
              "[10 rows x 26 columns]"
            ]
          },
          "metadata": {
            "tags": []
          },
          "execution_count": 4
        }
      ]
    },
    {
      "cell_type": "markdown",
      "metadata": {
        "id": "xaBMy2DORb0B"
      },
      "source": [
        "Source: https://www.kaggle.com/mansoordaku/ckdisease/discussion/128941\n",
        " bp - blood pressure\n",
        "- sg - specific gravity\n",
        "- al - albumin\n",
        "- su - sugar\n",
        "- rbc - red blood cells\n",
        "- pc - pus cell\n",
        "- pcc - pus cell clumps\n",
        "- ba - bacteria\n",
        "- bgr - blood glucose random\n",
        "- bu - blood urea\n",
        "- sc - serum creatinine\n",
        "- sod - sodium\n",
        "- pot - potassium\n",
        "- hemo - hemoglobin\n",
        "- pcv - packed cell volume\n",
        "- wc - white blood cell count\n",
        "- rc - red blood cell count\n",
        "- htn - hypertension\n",
        "- dm - diabetes mellitus\n",
        "- cad - coronary artery disease\n",
        "- appet - appetite\n",
        "- pe - pedal edema\n",
        "- ane - anemia\n",
        "- class - class"
      ]
    },
    {
      "cell_type": "markdown",
      "metadata": {
        "id": "7nLKPLcc7Tvi"
      },
      "source": [
        "\n",
        "\n",
        "---\n",
        "\n",
        "\n",
        "##**Step: 2**\n",
        "####Process the dataset. Processing steps can include:\n",
        "1. Removing fields with missing or wrong information\n",
        "2. Converting continuous values into discrete ranges (such as age groups)\n",
        "3. Removing personal information (such as name, identification numbers)\n",
        "4. Datasets can be fairly large (can have millions of records). Limit yourself to a few hundred to get started and get a feel of the problem. You can include more records (or inputs) as you see fit.\n"
      ]
    },
    {
      "cell_type": "markdown",
      "metadata": {
        "id": "G8m3hY_CUt2f"
      },
      "source": [
        "Renaming Column for better Understanding\n"
      ]
    },
    {
      "cell_type": "code",
      "metadata": {
        "id": "iD-W_-ui7avO"
      },
      "source": [
        "# Dictionary\n",
        "NewCols={\"bp\":\"blood_pressure\",\"sg\":\"specific_gravity\", \"al\":\"albumin\",\"su\":\"sugar\",\"rbc\":\"red_blood_cells\",\"pc\":\"pus_cell\",\n",
        "         \"pcc\":\"pus_cell_clumps\",\"ba\":\"bacteria\",\"bgr\":\"blood_glucose_random\",\"bu\":\"blood_urea\",\"sc\":\"serum_creatinine\",\n",
        "         \"sod\":\"sodium\",\"pot\":\"potassium\",\"hemo\":\"haemoglobin\",\"pcv\":\"packed_cell_volume\",\"wc\":\"white_blood_cell_count\",\n",
        "          \"rc\":\"red_blood_cell_count\",\"htn\":\"hypertension\",\"dm\":\"diabetes_mellitus\",\"cad\":\"coronary_artery_disease\",\n",
        "          \"appet\":\"appetite\",\"pe\":\"pedal_edema\",\"ane\":\"anemia\"}\n",
        "\n",
        "# Change columns of CKD data to new columns\n",
        "data.rename(columns=NewCols, inplace=True)"
      ],
      "execution_count": null,
      "outputs": []
    },
    {
      "cell_type": "code",
      "metadata": {
        "colab": {
          "base_uri": "https://localhost:8080/",
          "height": 317
        },
        "id": "lzmky8OnUOAm",
        "outputId": "b75a93cb-296c-4dda-c49a-c95742e41947"
      },
      "source": [
        "#check summary of numerical data  such as count , mean , max , min  and standard deviation.\n",
        "data.describe()"
      ],
      "execution_count": null,
      "outputs": [
        {
          "output_type": "execute_result",
          "data": {
            "text/html": [
              "<div>\n",
              "<style scoped>\n",
              "    .dataframe tbody tr th:only-of-type {\n",
              "        vertical-align: middle;\n",
              "    }\n",
              "\n",
              "    .dataframe tbody tr th {\n",
              "        vertical-align: top;\n",
              "    }\n",
              "\n",
              "    .dataframe thead th {\n",
              "        text-align: right;\n",
              "    }\n",
              "</style>\n",
              "<table border=\"1\" class=\"dataframe\">\n",
              "  <thead>\n",
              "    <tr style=\"text-align: right;\">\n",
              "      <th></th>\n",
              "      <th>id</th>\n",
              "      <th>age</th>\n",
              "      <th>blood_pressure</th>\n",
              "      <th>specific_gravity</th>\n",
              "      <th>albumin</th>\n",
              "      <th>sugar</th>\n",
              "      <th>blood_glucose_random</th>\n",
              "      <th>blood_urea</th>\n",
              "      <th>serum_creatinine</th>\n",
              "      <th>sodium</th>\n",
              "      <th>potassium</th>\n",
              "      <th>haemoglobin</th>\n",
              "    </tr>\n",
              "  </thead>\n",
              "  <tbody>\n",
              "    <tr>\n",
              "      <th>count</th>\n",
              "      <td>400.000000</td>\n",
              "      <td>391.000000</td>\n",
              "      <td>388.000000</td>\n",
              "      <td>353.000000</td>\n",
              "      <td>354.000000</td>\n",
              "      <td>351.000000</td>\n",
              "      <td>356.000000</td>\n",
              "      <td>381.000000</td>\n",
              "      <td>383.000000</td>\n",
              "      <td>313.000000</td>\n",
              "      <td>312.000000</td>\n",
              "      <td>348.000000</td>\n",
              "    </tr>\n",
              "    <tr>\n",
              "      <th>mean</th>\n",
              "      <td>199.500000</td>\n",
              "      <td>51.483376</td>\n",
              "      <td>76.469072</td>\n",
              "      <td>1.017408</td>\n",
              "      <td>1.016949</td>\n",
              "      <td>0.450142</td>\n",
              "      <td>148.036517</td>\n",
              "      <td>57.425722</td>\n",
              "      <td>3.072454</td>\n",
              "      <td>137.528754</td>\n",
              "      <td>4.627244</td>\n",
              "      <td>12.526437</td>\n",
              "    </tr>\n",
              "    <tr>\n",
              "      <th>std</th>\n",
              "      <td>115.614301</td>\n",
              "      <td>17.169714</td>\n",
              "      <td>13.683637</td>\n",
              "      <td>0.005717</td>\n",
              "      <td>1.352679</td>\n",
              "      <td>1.099191</td>\n",
              "      <td>79.281714</td>\n",
              "      <td>50.503006</td>\n",
              "      <td>5.741126</td>\n",
              "      <td>10.408752</td>\n",
              "      <td>3.193904</td>\n",
              "      <td>2.912587</td>\n",
              "    </tr>\n",
              "    <tr>\n",
              "      <th>min</th>\n",
              "      <td>0.000000</td>\n",
              "      <td>2.000000</td>\n",
              "      <td>50.000000</td>\n",
              "      <td>1.005000</td>\n",
              "      <td>0.000000</td>\n",
              "      <td>0.000000</td>\n",
              "      <td>22.000000</td>\n",
              "      <td>1.500000</td>\n",
              "      <td>0.400000</td>\n",
              "      <td>4.500000</td>\n",
              "      <td>2.500000</td>\n",
              "      <td>3.100000</td>\n",
              "    </tr>\n",
              "    <tr>\n",
              "      <th>25%</th>\n",
              "      <td>99.750000</td>\n",
              "      <td>42.000000</td>\n",
              "      <td>70.000000</td>\n",
              "      <td>1.010000</td>\n",
              "      <td>0.000000</td>\n",
              "      <td>0.000000</td>\n",
              "      <td>99.000000</td>\n",
              "      <td>27.000000</td>\n",
              "      <td>0.900000</td>\n",
              "      <td>135.000000</td>\n",
              "      <td>3.800000</td>\n",
              "      <td>10.300000</td>\n",
              "    </tr>\n",
              "    <tr>\n",
              "      <th>50%</th>\n",
              "      <td>199.500000</td>\n",
              "      <td>55.000000</td>\n",
              "      <td>80.000000</td>\n",
              "      <td>1.020000</td>\n",
              "      <td>0.000000</td>\n",
              "      <td>0.000000</td>\n",
              "      <td>121.000000</td>\n",
              "      <td>42.000000</td>\n",
              "      <td>1.300000</td>\n",
              "      <td>138.000000</td>\n",
              "      <td>4.400000</td>\n",
              "      <td>12.650000</td>\n",
              "    </tr>\n",
              "    <tr>\n",
              "      <th>75%</th>\n",
              "      <td>299.250000</td>\n",
              "      <td>64.500000</td>\n",
              "      <td>80.000000</td>\n",
              "      <td>1.020000</td>\n",
              "      <td>2.000000</td>\n",
              "      <td>0.000000</td>\n",
              "      <td>163.000000</td>\n",
              "      <td>66.000000</td>\n",
              "      <td>2.800000</td>\n",
              "      <td>142.000000</td>\n",
              "      <td>4.900000</td>\n",
              "      <td>15.000000</td>\n",
              "    </tr>\n",
              "    <tr>\n",
              "      <th>max</th>\n",
              "      <td>399.000000</td>\n",
              "      <td>90.000000</td>\n",
              "      <td>180.000000</td>\n",
              "      <td>1.025000</td>\n",
              "      <td>5.000000</td>\n",
              "      <td>5.000000</td>\n",
              "      <td>490.000000</td>\n",
              "      <td>391.000000</td>\n",
              "      <td>76.000000</td>\n",
              "      <td>163.000000</td>\n",
              "      <td>47.000000</td>\n",
              "      <td>17.800000</td>\n",
              "    </tr>\n",
              "  </tbody>\n",
              "</table>\n",
              "</div>"
            ],
            "text/plain": [
              "               id         age  ...   potassium  haemoglobin\n",
              "count  400.000000  391.000000  ...  312.000000   348.000000\n",
              "mean   199.500000   51.483376  ...    4.627244    12.526437\n",
              "std    115.614301   17.169714  ...    3.193904     2.912587\n",
              "min      0.000000    2.000000  ...    2.500000     3.100000\n",
              "25%     99.750000   42.000000  ...    3.800000    10.300000\n",
              "50%    199.500000   55.000000  ...    4.400000    12.650000\n",
              "75%    299.250000   64.500000  ...    4.900000    15.000000\n",
              "max    399.000000   90.000000  ...   47.000000    17.800000\n",
              "\n",
              "[8 rows x 12 columns]"
            ]
          },
          "metadata": {
            "tags": []
          },
          "execution_count": 6
        }
      ]
    },
    {
      "cell_type": "markdown",
      "metadata": {
        "id": "A0UWwxzKU2mG"
      },
      "source": [
        "Replacing String values with numerical values for better computation\n"
      ]
    },
    {
      "cell_type": "code",
      "metadata": {
        "id": "Ke3_XbCiUhAj"
      },
      "source": [
        "# Drop id column \n",
        "\n",
        "data[['red_blood_cells','pus_cell']] = data[['red_blood_cells','pus_cell']].replace(to_replace={'abnormal':1,'normal':0})\n",
        "data[['pus_cell_clumps','bacteria']] = data[['pus_cell_clumps','bacteria']].replace(to_replace={'present':1,'notpresent':0})\n",
        "data[['hypertension','diabetes_mellitus','coronary_artery_disease','pedal_edema','anemia']] = data[['hypertension','diabetes_mellitus','coronary_artery_disease','pedal_edema','anemia']].replace(to_replace={'yes':1,'no':0})\n",
        "data[['appetite']] = data[['appetite']].replace(to_replace={'good':1,'poor':0,'no':np.nan})\n",
        "data['coronary_artery_disease'] = data['coronary_artery_disease'].replace(to_replace='\\tno',value=0)\n",
        "data['diabetes_mellitus'] = data['diabetes_mellitus'].replace(to_replace={'\\tno':0,'\\tyes':1,' yes':1, '':np.nan})\n",
        "data['classification'] = data['classification'].replace(to_replace={'ckd':1.0,'ckd\\t':1.0,'notckd':0.0,'no':0.0})\n",
        "\n",
        "data['pedal_edema'] = data['pedal_edema'].replace(to_replace='good',value=0) \n",
        "data['appetite'] = data['appetite'].replace(to_replace='no',value=0)\n",
        "data['coronary_artery_disease']=data['coronary_artery_disease'].replace('yes',1)"
      ],
      "execution_count": null,
      "outputs": []
    },
    {
      "cell_type": "code",
      "metadata": {
        "colab": {
          "base_uri": "https://localhost:8080/",
          "height": 379
        },
        "id": "ae1EszCHUkvP",
        "outputId": "14127bac-3e98-407a-b77e-c172000b4e2b"
      },
      "source": [
        "data.head(10)"
      ],
      "execution_count": null,
      "outputs": [
        {
          "output_type": "execute_result",
          "data": {
            "text/html": [
              "<div>\n",
              "<style scoped>\n",
              "    .dataframe tbody tr th:only-of-type {\n",
              "        vertical-align: middle;\n",
              "    }\n",
              "\n",
              "    .dataframe tbody tr th {\n",
              "        vertical-align: top;\n",
              "    }\n",
              "\n",
              "    .dataframe thead th {\n",
              "        text-align: right;\n",
              "    }\n",
              "</style>\n",
              "<table border=\"1\" class=\"dataframe\">\n",
              "  <thead>\n",
              "    <tr style=\"text-align: right;\">\n",
              "      <th></th>\n",
              "      <th>id</th>\n",
              "      <th>age</th>\n",
              "      <th>blood_pressure</th>\n",
              "      <th>specific_gravity</th>\n",
              "      <th>albumin</th>\n",
              "      <th>sugar</th>\n",
              "      <th>red_blood_cells</th>\n",
              "      <th>pus_cell</th>\n",
              "      <th>pus_cell_clumps</th>\n",
              "      <th>bacteria</th>\n",
              "      <th>blood_glucose_random</th>\n",
              "      <th>blood_urea</th>\n",
              "      <th>serum_creatinine</th>\n",
              "      <th>sodium</th>\n",
              "      <th>potassium</th>\n",
              "      <th>haemoglobin</th>\n",
              "      <th>packed_cell_volume</th>\n",
              "      <th>white_blood_cell_count</th>\n",
              "      <th>red_blood_cell_count</th>\n",
              "      <th>hypertension</th>\n",
              "      <th>diabetes_mellitus</th>\n",
              "      <th>coronary_artery_disease</th>\n",
              "      <th>appetite</th>\n",
              "      <th>pedal_edema</th>\n",
              "      <th>anemia</th>\n",
              "      <th>classification</th>\n",
              "    </tr>\n",
              "  </thead>\n",
              "  <tbody>\n",
              "    <tr>\n",
              "      <th>0</th>\n",
              "      <td>0</td>\n",
              "      <td>48.0</td>\n",
              "      <td>80.0</td>\n",
              "      <td>1.020</td>\n",
              "      <td>1.0</td>\n",
              "      <td>0.0</td>\n",
              "      <td>NaN</td>\n",
              "      <td>0.0</td>\n",
              "      <td>0.0</td>\n",
              "      <td>0.0</td>\n",
              "      <td>121.0</td>\n",
              "      <td>36.0</td>\n",
              "      <td>1.2</td>\n",
              "      <td>NaN</td>\n",
              "      <td>NaN</td>\n",
              "      <td>15.4</td>\n",
              "      <td>44</td>\n",
              "      <td>7800</td>\n",
              "      <td>5.2</td>\n",
              "      <td>1.0</td>\n",
              "      <td>1.0</td>\n",
              "      <td>0.0</td>\n",
              "      <td>1.0</td>\n",
              "      <td>0.0</td>\n",
              "      <td>0.0</td>\n",
              "      <td>1.0</td>\n",
              "    </tr>\n",
              "    <tr>\n",
              "      <th>1</th>\n",
              "      <td>1</td>\n",
              "      <td>7.0</td>\n",
              "      <td>50.0</td>\n",
              "      <td>1.020</td>\n",
              "      <td>4.0</td>\n",
              "      <td>0.0</td>\n",
              "      <td>NaN</td>\n",
              "      <td>0.0</td>\n",
              "      <td>0.0</td>\n",
              "      <td>0.0</td>\n",
              "      <td>NaN</td>\n",
              "      <td>18.0</td>\n",
              "      <td>0.8</td>\n",
              "      <td>NaN</td>\n",
              "      <td>NaN</td>\n",
              "      <td>11.3</td>\n",
              "      <td>38</td>\n",
              "      <td>6000</td>\n",
              "      <td>NaN</td>\n",
              "      <td>0.0</td>\n",
              "      <td>0.0</td>\n",
              "      <td>0.0</td>\n",
              "      <td>1.0</td>\n",
              "      <td>0.0</td>\n",
              "      <td>0.0</td>\n",
              "      <td>1.0</td>\n",
              "    </tr>\n",
              "    <tr>\n",
              "      <th>2</th>\n",
              "      <td>2</td>\n",
              "      <td>62.0</td>\n",
              "      <td>80.0</td>\n",
              "      <td>1.010</td>\n",
              "      <td>2.0</td>\n",
              "      <td>3.0</td>\n",
              "      <td>0.0</td>\n",
              "      <td>0.0</td>\n",
              "      <td>0.0</td>\n",
              "      <td>0.0</td>\n",
              "      <td>423.0</td>\n",
              "      <td>53.0</td>\n",
              "      <td>1.8</td>\n",
              "      <td>NaN</td>\n",
              "      <td>NaN</td>\n",
              "      <td>9.6</td>\n",
              "      <td>31</td>\n",
              "      <td>7500</td>\n",
              "      <td>NaN</td>\n",
              "      <td>0.0</td>\n",
              "      <td>1.0</td>\n",
              "      <td>0.0</td>\n",
              "      <td>0.0</td>\n",
              "      <td>0.0</td>\n",
              "      <td>1.0</td>\n",
              "      <td>1.0</td>\n",
              "    </tr>\n",
              "    <tr>\n",
              "      <th>3</th>\n",
              "      <td>3</td>\n",
              "      <td>48.0</td>\n",
              "      <td>70.0</td>\n",
              "      <td>1.005</td>\n",
              "      <td>4.0</td>\n",
              "      <td>0.0</td>\n",
              "      <td>0.0</td>\n",
              "      <td>1.0</td>\n",
              "      <td>1.0</td>\n",
              "      <td>0.0</td>\n",
              "      <td>117.0</td>\n",
              "      <td>56.0</td>\n",
              "      <td>3.8</td>\n",
              "      <td>111.0</td>\n",
              "      <td>2.5</td>\n",
              "      <td>11.2</td>\n",
              "      <td>32</td>\n",
              "      <td>6700</td>\n",
              "      <td>3.9</td>\n",
              "      <td>1.0</td>\n",
              "      <td>0.0</td>\n",
              "      <td>0.0</td>\n",
              "      <td>0.0</td>\n",
              "      <td>1.0</td>\n",
              "      <td>1.0</td>\n",
              "      <td>1.0</td>\n",
              "    </tr>\n",
              "    <tr>\n",
              "      <th>4</th>\n",
              "      <td>4</td>\n",
              "      <td>51.0</td>\n",
              "      <td>80.0</td>\n",
              "      <td>1.010</td>\n",
              "      <td>2.0</td>\n",
              "      <td>0.0</td>\n",
              "      <td>0.0</td>\n",
              "      <td>0.0</td>\n",
              "      <td>0.0</td>\n",
              "      <td>0.0</td>\n",
              "      <td>106.0</td>\n",
              "      <td>26.0</td>\n",
              "      <td>1.4</td>\n",
              "      <td>NaN</td>\n",
              "      <td>NaN</td>\n",
              "      <td>11.6</td>\n",
              "      <td>35</td>\n",
              "      <td>7300</td>\n",
              "      <td>4.6</td>\n",
              "      <td>0.0</td>\n",
              "      <td>0.0</td>\n",
              "      <td>0.0</td>\n",
              "      <td>1.0</td>\n",
              "      <td>0.0</td>\n",
              "      <td>0.0</td>\n",
              "      <td>1.0</td>\n",
              "    </tr>\n",
              "    <tr>\n",
              "      <th>5</th>\n",
              "      <td>5</td>\n",
              "      <td>60.0</td>\n",
              "      <td>90.0</td>\n",
              "      <td>1.015</td>\n",
              "      <td>3.0</td>\n",
              "      <td>0.0</td>\n",
              "      <td>NaN</td>\n",
              "      <td>NaN</td>\n",
              "      <td>0.0</td>\n",
              "      <td>0.0</td>\n",
              "      <td>74.0</td>\n",
              "      <td>25.0</td>\n",
              "      <td>1.1</td>\n",
              "      <td>142.0</td>\n",
              "      <td>3.2</td>\n",
              "      <td>12.2</td>\n",
              "      <td>39</td>\n",
              "      <td>7800</td>\n",
              "      <td>4.4</td>\n",
              "      <td>1.0</td>\n",
              "      <td>1.0</td>\n",
              "      <td>0.0</td>\n",
              "      <td>1.0</td>\n",
              "      <td>1.0</td>\n",
              "      <td>0.0</td>\n",
              "      <td>1.0</td>\n",
              "    </tr>\n",
              "    <tr>\n",
              "      <th>6</th>\n",
              "      <td>6</td>\n",
              "      <td>68.0</td>\n",
              "      <td>70.0</td>\n",
              "      <td>1.010</td>\n",
              "      <td>0.0</td>\n",
              "      <td>0.0</td>\n",
              "      <td>NaN</td>\n",
              "      <td>0.0</td>\n",
              "      <td>0.0</td>\n",
              "      <td>0.0</td>\n",
              "      <td>100.0</td>\n",
              "      <td>54.0</td>\n",
              "      <td>24.0</td>\n",
              "      <td>104.0</td>\n",
              "      <td>4.0</td>\n",
              "      <td>12.4</td>\n",
              "      <td>36</td>\n",
              "      <td>NaN</td>\n",
              "      <td>NaN</td>\n",
              "      <td>0.0</td>\n",
              "      <td>0.0</td>\n",
              "      <td>0.0</td>\n",
              "      <td>1.0</td>\n",
              "      <td>0.0</td>\n",
              "      <td>0.0</td>\n",
              "      <td>1.0</td>\n",
              "    </tr>\n",
              "    <tr>\n",
              "      <th>7</th>\n",
              "      <td>7</td>\n",
              "      <td>24.0</td>\n",
              "      <td>NaN</td>\n",
              "      <td>1.015</td>\n",
              "      <td>2.0</td>\n",
              "      <td>4.0</td>\n",
              "      <td>0.0</td>\n",
              "      <td>1.0</td>\n",
              "      <td>0.0</td>\n",
              "      <td>0.0</td>\n",
              "      <td>410.0</td>\n",
              "      <td>31.0</td>\n",
              "      <td>1.1</td>\n",
              "      <td>NaN</td>\n",
              "      <td>NaN</td>\n",
              "      <td>12.4</td>\n",
              "      <td>44</td>\n",
              "      <td>6900</td>\n",
              "      <td>5</td>\n",
              "      <td>0.0</td>\n",
              "      <td>1.0</td>\n",
              "      <td>0.0</td>\n",
              "      <td>1.0</td>\n",
              "      <td>1.0</td>\n",
              "      <td>0.0</td>\n",
              "      <td>1.0</td>\n",
              "    </tr>\n",
              "    <tr>\n",
              "      <th>8</th>\n",
              "      <td>8</td>\n",
              "      <td>52.0</td>\n",
              "      <td>100.0</td>\n",
              "      <td>1.015</td>\n",
              "      <td>3.0</td>\n",
              "      <td>0.0</td>\n",
              "      <td>0.0</td>\n",
              "      <td>1.0</td>\n",
              "      <td>1.0</td>\n",
              "      <td>0.0</td>\n",
              "      <td>138.0</td>\n",
              "      <td>60.0</td>\n",
              "      <td>1.9</td>\n",
              "      <td>NaN</td>\n",
              "      <td>NaN</td>\n",
              "      <td>10.8</td>\n",
              "      <td>33</td>\n",
              "      <td>9600</td>\n",
              "      <td>4.0</td>\n",
              "      <td>1.0</td>\n",
              "      <td>1.0</td>\n",
              "      <td>0.0</td>\n",
              "      <td>1.0</td>\n",
              "      <td>0.0</td>\n",
              "      <td>1.0</td>\n",
              "      <td>1.0</td>\n",
              "    </tr>\n",
              "    <tr>\n",
              "      <th>9</th>\n",
              "      <td>9</td>\n",
              "      <td>53.0</td>\n",
              "      <td>90.0</td>\n",
              "      <td>1.020</td>\n",
              "      <td>2.0</td>\n",
              "      <td>0.0</td>\n",
              "      <td>1.0</td>\n",
              "      <td>1.0</td>\n",
              "      <td>1.0</td>\n",
              "      <td>0.0</td>\n",
              "      <td>70.0</td>\n",
              "      <td>107.0</td>\n",
              "      <td>7.2</td>\n",
              "      <td>114.0</td>\n",
              "      <td>3.7</td>\n",
              "      <td>9.5</td>\n",
              "      <td>29</td>\n",
              "      <td>12100</td>\n",
              "      <td>3.7</td>\n",
              "      <td>1.0</td>\n",
              "      <td>1.0</td>\n",
              "      <td>0.0</td>\n",
              "      <td>0.0</td>\n",
              "      <td>0.0</td>\n",
              "      <td>1.0</td>\n",
              "      <td>1.0</td>\n",
              "    </tr>\n",
              "  </tbody>\n",
              "</table>\n",
              "</div>"
            ],
            "text/plain": [
              "   id   age  blood_pressure  ...  pedal_edema  anemia  classification\n",
              "0   0  48.0            80.0  ...          0.0     0.0             1.0\n",
              "1   1   7.0            50.0  ...          0.0     0.0             1.0\n",
              "2   2  62.0            80.0  ...          0.0     1.0             1.0\n",
              "3   3  48.0            70.0  ...          1.0     1.0             1.0\n",
              "4   4  51.0            80.0  ...          0.0     0.0             1.0\n",
              "5   5  60.0            90.0  ...          1.0     0.0             1.0\n",
              "6   6  68.0            70.0  ...          0.0     0.0             1.0\n",
              "7   7  24.0             NaN  ...          1.0     0.0             1.0\n",
              "8   8  52.0           100.0  ...          0.0     1.0             1.0\n",
              "9   9  53.0            90.0  ...          0.0     1.0             1.0\n",
              "\n",
              "[10 rows x 26 columns]"
            ]
          },
          "metadata": {
            "tags": []
          },
          "execution_count": 8
        }
      ]
    },
    {
      "cell_type": "markdown",
      "metadata": {
        "id": "thkdZOd2VApi"
      },
      "source": [
        "Handling missing or null values\n"
      ]
    },
    {
      "cell_type": "markdown",
      "metadata": {
        "id": "8MFPUFb1XZZu"
      },
      "source": [
        "Source https://www.kaggle.com/zainaali/ckd-analysis-visualization-classification"
      ]
    },
    {
      "cell_type": "code",
      "metadata": {
        "id": "x_SgFF2fUUG2",
        "colab": {
          "base_uri": "https://localhost:8080/"
        },
        "outputId": "7b650cc7-c4ef-4661-e190-fb32b0dbf458"
      },
      "source": [
        "#Check total missing values in each feature\n",
        "data.isnull().sum()"
      ],
      "execution_count": null,
      "outputs": [
        {
          "output_type": "execute_result",
          "data": {
            "text/plain": [
              "id                           0\n",
              "age                          9\n",
              "blood_pressure              12\n",
              "specific_gravity            47\n",
              "albumin                     46\n",
              "sugar                       49\n",
              "red_blood_cells            152\n",
              "pus_cell                    65\n",
              "pus_cell_clumps              4\n",
              "bacteria                     4\n",
              "blood_glucose_random        44\n",
              "blood_urea                  19\n",
              "serum_creatinine            17\n",
              "sodium                      87\n",
              "potassium                   88\n",
              "haemoglobin                 52\n",
              "packed_cell_volume          70\n",
              "white_blood_cell_count     105\n",
              "red_blood_cell_count       130\n",
              "hypertension                 2\n",
              "diabetes_mellitus            2\n",
              "coronary_artery_disease      2\n",
              "appetite                     1\n",
              "pedal_edema                  1\n",
              "anemia                       1\n",
              "classification               0\n",
              "dtype: int64"
            ]
          },
          "metadata": {
            "tags": []
          },
          "execution_count": 9
        }
      ]
    },
    {
      "cell_type": "code",
      "metadata": {
        "id": "uTOKPFs7VqmR"
      },
      "source": [
        "#Replacing missing values with the mean values of the column\n",
        "\n",
        "data['age']=data['age'].fillna(np.mean(data['age']))\n",
        "data['blood_pressure']=data['blood_pressure'].fillna(np.mean(data['blood_pressure']))\n",
        "data['albumin']=data['albumin'].fillna(np.mean(data['albumin']))\n",
        "\n",
        "data['specific_gravity']=data['specific_gravity'].fillna(np.mean(data['specific_gravity']))\n",
        "data['sugar']=data['sugar'].fillna(np.mean(data['sugar']))\n",
        "data['blood_glucose_random']=data['blood_glucose_random'].fillna(np.mean(data['blood_glucose_random']))\n",
        "data['blood_urea']=data['blood_urea'].fillna(np.mean(data['blood_urea']))\n",
        "data['serum_creatinine']=data['serum_creatinine'].fillna(np.mean(data['serum_creatinine']))\n",
        "data['haemoglobinhaemoglobin']=data['haemoglobin'].fillna(np.mean(data['haemoglobin']))\n",
        "data['potassium']=data['potassium'].fillna(np.mean(data['potassium']))\n",
        "data['sodium']=data['sodium'].fillna(np.mean(data['sodium']))\n",
        "\n",
        "data = data.replace(\"\\t?\", np.nan)\n",
        "data = data.replace(\" ?\", np.nan)\n",
        "data = data.fillna(method='ffill')\n",
        "data = data.fillna(method='backfill')\n",
        "\n"
      ],
      "execution_count": null,
      "outputs": []
    },
    {
      "cell_type": "code",
      "metadata": {
        "id": "8S7XKm4zV_lS",
        "colab": {
          "base_uri": "https://localhost:8080/"
        },
        "outputId": "a4e9df51-d0aa-469d-a775-78ba015bf93c"
      },
      "source": [
        "# Again ,Check missing values\n",
        "data.isnull().sum()"
      ],
      "execution_count": null,
      "outputs": [
        {
          "output_type": "execute_result",
          "data": {
            "text/plain": [
              "id                         0\n",
              "age                        0\n",
              "blood_pressure             0\n",
              "specific_gravity           0\n",
              "albumin                    0\n",
              "sugar                      0\n",
              "red_blood_cells            0\n",
              "pus_cell                   0\n",
              "pus_cell_clumps            0\n",
              "bacteria                   0\n",
              "blood_glucose_random       0\n",
              "blood_urea                 0\n",
              "serum_creatinine           0\n",
              "sodium                     0\n",
              "potassium                  0\n",
              "haemoglobin                0\n",
              "packed_cell_volume         0\n",
              "white_blood_cell_count     0\n",
              "red_blood_cell_count       0\n",
              "hypertension               0\n",
              "diabetes_mellitus          0\n",
              "coronary_artery_disease    0\n",
              "appetite                   0\n",
              "pedal_edema                0\n",
              "anemia                     0\n",
              "classification             0\n",
              "haemoglobinhaemoglobin     0\n",
              "dtype: int64"
            ]
          },
          "metadata": {
            "tags": []
          },
          "execution_count": 11
        }
      ]
    },
    {
      "cell_type": "code",
      "metadata": {
        "id": "loDqHrJnWWCc",
        "colab": {
          "base_uri": "https://localhost:8080/",
          "height": 439
        },
        "outputId": "e5797604-3cd4-48eb-9329-34b00f6abbf2"
      },
      "source": [
        "data"
      ],
      "execution_count": null,
      "outputs": [
        {
          "output_type": "execute_result",
          "data": {
            "text/html": [
              "<div>\n",
              "<style scoped>\n",
              "    .dataframe tbody tr th:only-of-type {\n",
              "        vertical-align: middle;\n",
              "    }\n",
              "\n",
              "    .dataframe tbody tr th {\n",
              "        vertical-align: top;\n",
              "    }\n",
              "\n",
              "    .dataframe thead th {\n",
              "        text-align: right;\n",
              "    }\n",
              "</style>\n",
              "<table border=\"1\" class=\"dataframe\">\n",
              "  <thead>\n",
              "    <tr style=\"text-align: right;\">\n",
              "      <th></th>\n",
              "      <th>id</th>\n",
              "      <th>age</th>\n",
              "      <th>blood_pressure</th>\n",
              "      <th>specific_gravity</th>\n",
              "      <th>albumin</th>\n",
              "      <th>sugar</th>\n",
              "      <th>red_blood_cells</th>\n",
              "      <th>pus_cell</th>\n",
              "      <th>pus_cell_clumps</th>\n",
              "      <th>bacteria</th>\n",
              "      <th>blood_glucose_random</th>\n",
              "      <th>blood_urea</th>\n",
              "      <th>serum_creatinine</th>\n",
              "      <th>sodium</th>\n",
              "      <th>potassium</th>\n",
              "      <th>haemoglobin</th>\n",
              "      <th>packed_cell_volume</th>\n",
              "      <th>white_blood_cell_count</th>\n",
              "      <th>red_blood_cell_count</th>\n",
              "      <th>hypertension</th>\n",
              "      <th>diabetes_mellitus</th>\n",
              "      <th>coronary_artery_disease</th>\n",
              "      <th>appetite</th>\n",
              "      <th>pedal_edema</th>\n",
              "      <th>anemia</th>\n",
              "      <th>classification</th>\n",
              "      <th>haemoglobinhaemoglobin</th>\n",
              "    </tr>\n",
              "  </thead>\n",
              "  <tbody>\n",
              "    <tr>\n",
              "      <th>0</th>\n",
              "      <td>0</td>\n",
              "      <td>48.0</td>\n",
              "      <td>80.0</td>\n",
              "      <td>1.020</td>\n",
              "      <td>1.0</td>\n",
              "      <td>0.0</td>\n",
              "      <td>0.0</td>\n",
              "      <td>0.0</td>\n",
              "      <td>0.0</td>\n",
              "      <td>0.0</td>\n",
              "      <td>121.000000</td>\n",
              "      <td>36.0</td>\n",
              "      <td>1.2</td>\n",
              "      <td>137.528754</td>\n",
              "      <td>4.627244</td>\n",
              "      <td>15.4</td>\n",
              "      <td>44</td>\n",
              "      <td>7800</td>\n",
              "      <td>5.2</td>\n",
              "      <td>1.0</td>\n",
              "      <td>1.0</td>\n",
              "      <td>0.0</td>\n",
              "      <td>1.0</td>\n",
              "      <td>0.0</td>\n",
              "      <td>0.0</td>\n",
              "      <td>1.0</td>\n",
              "      <td>15.4</td>\n",
              "    </tr>\n",
              "    <tr>\n",
              "      <th>1</th>\n",
              "      <td>1</td>\n",
              "      <td>7.0</td>\n",
              "      <td>50.0</td>\n",
              "      <td>1.020</td>\n",
              "      <td>4.0</td>\n",
              "      <td>0.0</td>\n",
              "      <td>0.0</td>\n",
              "      <td>0.0</td>\n",
              "      <td>0.0</td>\n",
              "      <td>0.0</td>\n",
              "      <td>148.036517</td>\n",
              "      <td>18.0</td>\n",
              "      <td>0.8</td>\n",
              "      <td>137.528754</td>\n",
              "      <td>4.627244</td>\n",
              "      <td>11.3</td>\n",
              "      <td>38</td>\n",
              "      <td>6000</td>\n",
              "      <td>5.2</td>\n",
              "      <td>0.0</td>\n",
              "      <td>0.0</td>\n",
              "      <td>0.0</td>\n",
              "      <td>1.0</td>\n",
              "      <td>0.0</td>\n",
              "      <td>0.0</td>\n",
              "      <td>1.0</td>\n",
              "      <td>11.3</td>\n",
              "    </tr>\n",
              "    <tr>\n",
              "      <th>2</th>\n",
              "      <td>2</td>\n",
              "      <td>62.0</td>\n",
              "      <td>80.0</td>\n",
              "      <td>1.010</td>\n",
              "      <td>2.0</td>\n",
              "      <td>3.0</td>\n",
              "      <td>0.0</td>\n",
              "      <td>0.0</td>\n",
              "      <td>0.0</td>\n",
              "      <td>0.0</td>\n",
              "      <td>423.000000</td>\n",
              "      <td>53.0</td>\n",
              "      <td>1.8</td>\n",
              "      <td>137.528754</td>\n",
              "      <td>4.627244</td>\n",
              "      <td>9.6</td>\n",
              "      <td>31</td>\n",
              "      <td>7500</td>\n",
              "      <td>5.2</td>\n",
              "      <td>0.0</td>\n",
              "      <td>1.0</td>\n",
              "      <td>0.0</td>\n",
              "      <td>0.0</td>\n",
              "      <td>0.0</td>\n",
              "      <td>1.0</td>\n",
              "      <td>1.0</td>\n",
              "      <td>9.6</td>\n",
              "    </tr>\n",
              "    <tr>\n",
              "      <th>3</th>\n",
              "      <td>3</td>\n",
              "      <td>48.0</td>\n",
              "      <td>70.0</td>\n",
              "      <td>1.005</td>\n",
              "      <td>4.0</td>\n",
              "      <td>0.0</td>\n",
              "      <td>0.0</td>\n",
              "      <td>1.0</td>\n",
              "      <td>1.0</td>\n",
              "      <td>0.0</td>\n",
              "      <td>117.000000</td>\n",
              "      <td>56.0</td>\n",
              "      <td>3.8</td>\n",
              "      <td>111.000000</td>\n",
              "      <td>2.500000</td>\n",
              "      <td>11.2</td>\n",
              "      <td>32</td>\n",
              "      <td>6700</td>\n",
              "      <td>3.9</td>\n",
              "      <td>1.0</td>\n",
              "      <td>0.0</td>\n",
              "      <td>0.0</td>\n",
              "      <td>0.0</td>\n",
              "      <td>1.0</td>\n",
              "      <td>1.0</td>\n",
              "      <td>1.0</td>\n",
              "      <td>11.2</td>\n",
              "    </tr>\n",
              "    <tr>\n",
              "      <th>4</th>\n",
              "      <td>4</td>\n",
              "      <td>51.0</td>\n",
              "      <td>80.0</td>\n",
              "      <td>1.010</td>\n",
              "      <td>2.0</td>\n",
              "      <td>0.0</td>\n",
              "      <td>0.0</td>\n",
              "      <td>0.0</td>\n",
              "      <td>0.0</td>\n",
              "      <td>0.0</td>\n",
              "      <td>106.000000</td>\n",
              "      <td>26.0</td>\n",
              "      <td>1.4</td>\n",
              "      <td>137.528754</td>\n",
              "      <td>4.627244</td>\n",
              "      <td>11.6</td>\n",
              "      <td>35</td>\n",
              "      <td>7300</td>\n",
              "      <td>4.6</td>\n",
              "      <td>0.0</td>\n",
              "      <td>0.0</td>\n",
              "      <td>0.0</td>\n",
              "      <td>1.0</td>\n",
              "      <td>0.0</td>\n",
              "      <td>0.0</td>\n",
              "      <td>1.0</td>\n",
              "      <td>11.6</td>\n",
              "    </tr>\n",
              "    <tr>\n",
              "      <th>...</th>\n",
              "      <td>...</td>\n",
              "      <td>...</td>\n",
              "      <td>...</td>\n",
              "      <td>...</td>\n",
              "      <td>...</td>\n",
              "      <td>...</td>\n",
              "      <td>...</td>\n",
              "      <td>...</td>\n",
              "      <td>...</td>\n",
              "      <td>...</td>\n",
              "      <td>...</td>\n",
              "      <td>...</td>\n",
              "      <td>...</td>\n",
              "      <td>...</td>\n",
              "      <td>...</td>\n",
              "      <td>...</td>\n",
              "      <td>...</td>\n",
              "      <td>...</td>\n",
              "      <td>...</td>\n",
              "      <td>...</td>\n",
              "      <td>...</td>\n",
              "      <td>...</td>\n",
              "      <td>...</td>\n",
              "      <td>...</td>\n",
              "      <td>...</td>\n",
              "      <td>...</td>\n",
              "      <td>...</td>\n",
              "    </tr>\n",
              "    <tr>\n",
              "      <th>395</th>\n",
              "      <td>395</td>\n",
              "      <td>55.0</td>\n",
              "      <td>80.0</td>\n",
              "      <td>1.020</td>\n",
              "      <td>0.0</td>\n",
              "      <td>0.0</td>\n",
              "      <td>0.0</td>\n",
              "      <td>0.0</td>\n",
              "      <td>0.0</td>\n",
              "      <td>0.0</td>\n",
              "      <td>140.000000</td>\n",
              "      <td>49.0</td>\n",
              "      <td>0.5</td>\n",
              "      <td>150.000000</td>\n",
              "      <td>4.900000</td>\n",
              "      <td>15.7</td>\n",
              "      <td>47</td>\n",
              "      <td>6700</td>\n",
              "      <td>4.9</td>\n",
              "      <td>0.0</td>\n",
              "      <td>0.0</td>\n",
              "      <td>0.0</td>\n",
              "      <td>1.0</td>\n",
              "      <td>0.0</td>\n",
              "      <td>0.0</td>\n",
              "      <td>0.0</td>\n",
              "      <td>15.7</td>\n",
              "    </tr>\n",
              "    <tr>\n",
              "      <th>396</th>\n",
              "      <td>396</td>\n",
              "      <td>42.0</td>\n",
              "      <td>70.0</td>\n",
              "      <td>1.025</td>\n",
              "      <td>0.0</td>\n",
              "      <td>0.0</td>\n",
              "      <td>0.0</td>\n",
              "      <td>0.0</td>\n",
              "      <td>0.0</td>\n",
              "      <td>0.0</td>\n",
              "      <td>75.000000</td>\n",
              "      <td>31.0</td>\n",
              "      <td>1.2</td>\n",
              "      <td>141.000000</td>\n",
              "      <td>3.500000</td>\n",
              "      <td>16.5</td>\n",
              "      <td>54</td>\n",
              "      <td>7800</td>\n",
              "      <td>6.2</td>\n",
              "      <td>0.0</td>\n",
              "      <td>0.0</td>\n",
              "      <td>0.0</td>\n",
              "      <td>1.0</td>\n",
              "      <td>0.0</td>\n",
              "      <td>0.0</td>\n",
              "      <td>0.0</td>\n",
              "      <td>16.5</td>\n",
              "    </tr>\n",
              "    <tr>\n",
              "      <th>397</th>\n",
              "      <td>397</td>\n",
              "      <td>12.0</td>\n",
              "      <td>80.0</td>\n",
              "      <td>1.020</td>\n",
              "      <td>0.0</td>\n",
              "      <td>0.0</td>\n",
              "      <td>0.0</td>\n",
              "      <td>0.0</td>\n",
              "      <td>0.0</td>\n",
              "      <td>0.0</td>\n",
              "      <td>100.000000</td>\n",
              "      <td>26.0</td>\n",
              "      <td>0.6</td>\n",
              "      <td>137.000000</td>\n",
              "      <td>4.400000</td>\n",
              "      <td>15.8</td>\n",
              "      <td>49</td>\n",
              "      <td>6600</td>\n",
              "      <td>5.4</td>\n",
              "      <td>0.0</td>\n",
              "      <td>0.0</td>\n",
              "      <td>0.0</td>\n",
              "      <td>1.0</td>\n",
              "      <td>0.0</td>\n",
              "      <td>0.0</td>\n",
              "      <td>0.0</td>\n",
              "      <td>15.8</td>\n",
              "    </tr>\n",
              "    <tr>\n",
              "      <th>398</th>\n",
              "      <td>398</td>\n",
              "      <td>17.0</td>\n",
              "      <td>60.0</td>\n",
              "      <td>1.025</td>\n",
              "      <td>0.0</td>\n",
              "      <td>0.0</td>\n",
              "      <td>0.0</td>\n",
              "      <td>0.0</td>\n",
              "      <td>0.0</td>\n",
              "      <td>0.0</td>\n",
              "      <td>114.000000</td>\n",
              "      <td>50.0</td>\n",
              "      <td>1.0</td>\n",
              "      <td>135.000000</td>\n",
              "      <td>4.900000</td>\n",
              "      <td>14.2</td>\n",
              "      <td>51</td>\n",
              "      <td>7200</td>\n",
              "      <td>5.9</td>\n",
              "      <td>0.0</td>\n",
              "      <td>0.0</td>\n",
              "      <td>0.0</td>\n",
              "      <td>1.0</td>\n",
              "      <td>0.0</td>\n",
              "      <td>0.0</td>\n",
              "      <td>0.0</td>\n",
              "      <td>14.2</td>\n",
              "    </tr>\n",
              "    <tr>\n",
              "      <th>399</th>\n",
              "      <td>399</td>\n",
              "      <td>58.0</td>\n",
              "      <td>80.0</td>\n",
              "      <td>1.025</td>\n",
              "      <td>0.0</td>\n",
              "      <td>0.0</td>\n",
              "      <td>0.0</td>\n",
              "      <td>0.0</td>\n",
              "      <td>0.0</td>\n",
              "      <td>0.0</td>\n",
              "      <td>131.000000</td>\n",
              "      <td>18.0</td>\n",
              "      <td>1.1</td>\n",
              "      <td>141.000000</td>\n",
              "      <td>3.500000</td>\n",
              "      <td>15.8</td>\n",
              "      <td>53</td>\n",
              "      <td>6800</td>\n",
              "      <td>6.1</td>\n",
              "      <td>0.0</td>\n",
              "      <td>0.0</td>\n",
              "      <td>0.0</td>\n",
              "      <td>1.0</td>\n",
              "      <td>0.0</td>\n",
              "      <td>0.0</td>\n",
              "      <td>0.0</td>\n",
              "      <td>15.8</td>\n",
              "    </tr>\n",
              "  </tbody>\n",
              "</table>\n",
              "<p>400 rows × 27 columns</p>\n",
              "</div>"
            ],
            "text/plain": [
              "      id   age  blood_pressure  ...  anemia  classification  haemoglobinhaemoglobin\n",
              "0      0  48.0            80.0  ...     0.0             1.0                    15.4\n",
              "1      1   7.0            50.0  ...     0.0             1.0                    11.3\n",
              "2      2  62.0            80.0  ...     1.0             1.0                     9.6\n",
              "3      3  48.0            70.0  ...     1.0             1.0                    11.2\n",
              "4      4  51.0            80.0  ...     0.0             1.0                    11.6\n",
              "..   ...   ...             ...  ...     ...             ...                     ...\n",
              "395  395  55.0            80.0  ...     0.0             0.0                    15.7\n",
              "396  396  42.0            70.0  ...     0.0             0.0                    16.5\n",
              "397  397  12.0            80.0  ...     0.0             0.0                    15.8\n",
              "398  398  17.0            60.0  ...     0.0             0.0                    14.2\n",
              "399  399  58.0            80.0  ...     0.0             0.0                    15.8\n",
              "\n",
              "[400 rows x 27 columns]"
            ]
          },
          "metadata": {
            "tags": []
          },
          "execution_count": 12
        }
      ]
    },
    {
      "cell_type": "markdown",
      "metadata": {
        "id": "W3zssgem7yfk"
      },
      "source": [
        "##**Step 3:**\n",
        "####Visualize the data. \n",
        "Try using Microsoft Excel built in graph tools, such as Line, Bar, Pie, Histogram, etc. to understand what the data really means. This will also help in remove any outliers or redundant information (features).Also plot joint or individual distributions(PMF) and correlations by assuming each feature as a Random Variable to see whether it bears any significance on the diagnosis"
      ]
    },
    {
      "cell_type": "code",
      "metadata": {
        "colab": {
          "base_uri": "https://localhost:8080/",
          "height": 285
        },
        "id": "9FtkEk7M75DG",
        "outputId": "dc57971b-febd-4dd8-bbf0-4cc98cfb545e"
      },
      "source": [
        "\n",
        "plt.scatter(data['classification'],data['specific_gravity'])\n",
        "plt.ylabel('specific_gravity', fontsize=13)\n",
        "plt.xlabel('classfication', fontsize=13)\n",
        "plt.show()"
      ],
      "execution_count": null,
      "outputs": [
        {
          "output_type": "display_data",
          "data": {
            "image/png": "[encoded data removed]",
            "text/plain": [
              "<Figure size 432x288 with 1 Axes>"
            ]
          },
          "metadata": {
            "tags": [],
            "needs_background": "light"
          }
        }
      ]
    },
    {
      "cell_type": "code",
      "metadata": {
        "colab": {
          "base_uri": "https://localhost:8080/",
          "height": 299
        },
        "id": "ufthkJGNoRwD",
        "outputId": "71606e4c-b0d1-4c05-9268-ec9106da33e5"
      },
      "source": [
        "plt.scatter(data['classification'],data['age'])\n",
        "plt.xlabel('classification',fontsize=10)\n",
        "plt.ylabel('age',fontsize=10)"
      ],
      "execution_count": null,
      "outputs": [
        {
          "output_type": "execute_result",
          "data": {
            "text/plain": [
              "Text(0, 0.5, 'age')"
            ]
          },
          "metadata": {
            "tags": []
          },
          "execution_count": 14
        },
        {
          "output_type": "display_data",
          "data": {
            "image/png": "[encoded data removed]",
            "text/plain": [
              "<Figure size 432x288 with 1 Axes>"
            ]
          },
          "metadata": {
            "tags": [],
            "needs_background": "light"
          }
        }
      ]
    },
    {
      "cell_type": "code",
      "metadata": {
        "colab": {
          "base_uri": "https://localhost:8080/",
          "height": 299
        },
        "id": "svqO_PFyoVjQ",
        "outputId": "b6d1c09c-a204-4026-b7e4-75c983512fbe"
      },
      "source": [
        "plt.scatter(data['classification'],data['blood_pressure'])\n",
        "plt.xlabel('classification',fontsize=10)\n",
        "plt.ylabel('blood_pressure',fontsize=10)\n"
      ],
      "execution_count": null,
      "outputs": [
        {
          "output_type": "execute_result",
          "data": {
            "text/plain": [
              "Text(0, 0.5, 'blood_pressure')"
            ]
          },
          "metadata": {
            "tags": []
          },
          "execution_count": 15
        },
        {
          "output_type": "display_data",
          "data": {
            "image/png": "[encoded data removed]",
            "text/plain": [
              "<Figure size 432x288 with 1 Axes>"
            ]
          },
          "metadata": {
            "tags": [],
            "needs_background": "light"
          }
        }
      ]
    },
    {
      "cell_type": "code",
      "metadata": {
        "colab": {
          "base_uri": "https://localhost:8080/",
          "height": 299
        },
        "id": "XQHvdSwmobZJ",
        "outputId": "78a63df9-a6ef-4105-9335-f06504cc554d"
      },
      "source": [
        "plt.scatter(data['classification'],data['albumin'])\n",
        "plt.xlabel('classification',fontsize=10)\n",
        "plt.ylabel('albumin',fontsize=10)\n"
      ],
      "execution_count": null,
      "outputs": [
        {
          "output_type": "execute_result",
          "data": {
            "text/plain": [
              "Text(0, 0.5, 'albumin')"
            ]
          },
          "metadata": {
            "tags": []
          },
          "execution_count": 16
        },
        {
          "output_type": "display_data",
          "data": {
            "image/png": "[encoded data removed]",
            "text/plain": [
              "<Figure size 432x288 with 1 Axes>"
            ]
          },
          "metadata": {
            "tags": [],
            "needs_background": "light"
          }
        }
      ]
    },
    {
      "cell_type": "code",
      "metadata": {
        "colab": {
          "base_uri": "https://localhost:8080/",
          "height": 370
        },
        "id": "ZePch-tWX7ot",
        "outputId": "58dba781-c063-43d3-8e9f-1b9c9bd0b3cd"
      },
      "source": [
        "plt.scatter(data['classification'],data['white_blood_cell_count'])\r\n",
        "plt.xlabel('classification',fontsize=10)\r\n",
        "plt.ylabel('white_blood_cell_count',fontsize=10)\r\n"
      ],
      "execution_count": null,
      "outputs": [
        {
          "output_type": "execute_result",
          "data": {
            "text/plain": [
              "Text(0, 0.5, 'white_blood_cell_count')"
            ]
          },
          "metadata": {
            "tags": []
          },
          "execution_count": 17
        },
        {
          "output_type": "stream",
          "text": [
            "/usr/local/lib/python3.6/dist-packages/matplotlib/backends/backend_agg.py:214: RuntimeWarning: Glyph 9 missing from current font.\n",
            "  font.set_text(s, 0.0, flags=flags)\n",
            "/usr/local/lib/python3.6/dist-packages/matplotlib/backends/backend_agg.py:183: RuntimeWarning: Glyph 9 missing from current font.\n",
            "  font.set_text(s, 0, flags=flags)\n"
          ],
          "name": "stderr"
        },
        {
          "output_type": "display_data",
          "data": {
            "image/png": "[encoded data removed]",
            "text/plain": [
              "<Figure size 432x288 with 1 Axes>"
            ]
          },
          "metadata": {
            "tags": [],
            "needs_background": "light"
          }
        }
      ]
    },
    {
      "cell_type": "code",
      "metadata": {
        "colab": {
          "base_uri": "https://localhost:8080/",
          "height": 299
        },
        "id": "28LQg_V-ouzo",
        "outputId": "66800ea3-2267-492c-8e38-a793eb63b102"
      },
      "source": [
        "plt.scatter(data['classification'],data['haemoglobin'])\n",
        "plt.xlabel('classification',fontsize=10)\n",
        "plt.ylabel('haemoglobin',fontsize=10)\n"
      ],
      "execution_count": null,
      "outputs": [
        {
          "output_type": "execute_result",
          "data": {
            "text/plain": [
              "Text(0, 0.5, 'haemoglobin')"
            ]
          },
          "metadata": {
            "tags": []
          },
          "execution_count": 18
        },
        {
          "output_type": "display_data",
          "data": {
            "image/png": "[encoded data removed]",
            "text/plain": [
              "<Figure size 432x288 with 1 Axes>"
            ]
          },
          "metadata": {
            "tags": [],
            "needs_background": "light"
          }
        }
      ]
    },
    {
      "cell_type": "code",
      "metadata": {
        "colab": {
          "base_uri": "https://localhost:8080/",
          "height": 272
        },
        "id": "RTohHjTyy_lK",
        "outputId": "ef3771fa-7b7b-4d7c-fcd4-0f57da94d983"
      },
      "source": [
        "plt.scatter(x=data['haemoglobin'], y=data['albumin'], s=30,c=data['classification'], alpha=0.3,cmap='viridis')\n",
        "plt.colorbar();  # show color scale"
      ],
      "execution_count": null,
      "outputs": [
        {
          "output_type": "display_data",
          "data": {
            "image/png": "[encoded data removed]",
            "text/plain": [
              "<Figure size 432x288 with 2 Axes>"
            ]
          },
          "metadata": {
            "tags": [],
            "needs_background": "light"
          }
        }
      ]
    },
    {
      "cell_type": "code",
      "metadata": {
        "colab": {
          "base_uri": "https://localhost:8080/",
          "height": 1000
        },
        "id": "XmkSJlrCtdWC",
        "outputId": "fca5b9b2-d5be-4413-db19-80fae1362f80"
      },
      "source": [
        "\n",
        "data.hist(bins=30, figsize=(20,20))\n",
        "pl.suptitle(\"Histogram for each numeric input variable\")\n",
        "plt.show()"
      ],
      "execution_count": null,
      "outputs": [
        {
          "output_type": "display_data",
          "data": {
            "image/png": "[encoded data removed]",
            "text/plain": [
              "<Figure size 1440x1440 with 25 Axes>"
            ]
          },
          "metadata": {
            "tags": [],
            "needs_background": "light"
          }
        }
      ]
    },
    {
      "cell_type": "markdown",
      "metadata": {
        "id": "sONKNl9F75Rq"
      },
      "source": [
        "#Step 4:\n",
        "Build a Decision Tree model of the data. A gentle introduction to them can be found here: https://blog.paperspace.com/decision-trees/.\n",
        "This tree acts as an ‘expert system’ that takes in a query (such as possible systems) and outputs result (such as if the person is suffering a certain disease).(decision trees are optional)"
      ]
    },
    {
      "cell_type": "markdown",
      "metadata": {
        "id": "Qb6XFl9Dlst1"
      },
      "source": [
        "#Decision Tree"
      ]
    },
    {
      "cell_type": "code",
      "metadata": {
        "id": "B9ULKPtR8h30",
        "colab": {
          "base_uri": "https://localhost:8080/"
        },
        "outputId": "eec0a55e-f2f6-44b2-c68c-13ce2144a69d"
      },
      "source": [
        "\n",
        "# creating the model\n",
        "decisiontree = DecisionTreeClassifier(random_state=0) \n",
        "features = pd.DataFrame(data.drop('classification', axis=1)).to_numpy()\n",
        "model = decisiontree.fit(features, data['classification'])\n",
        "observation= [[57.0,60.0,1.025,0.0,0.0,1.0,1.0,1.0,1.0,0.0,114.000000,50.0,1.0,285.000000,8.900000,14.2,81,7200,5.9,0.0,0.0,0.0,1.0,0.0,0.0,14.2]]\n",
        "model.predict(observation)"
      ],
      "execution_count": null,
      "outputs": [
        {
          "output_type": "execute_result",
          "data": {
            "text/plain": [
              "array([1.])"
            ]
          },
          "metadata": {
            "tags": []
          },
          "execution_count": 23
        }
      ]
    },
    {
      "cell_type": "markdown",
      "metadata": {
        "id": "SF8ktdPY8jJo"
      },
      "source": [
        "#Step5\n",
        "In real world scenarios, decisions and probabilities are continuously changing as new data is  observed.  For  example,  if  health  conditions  are  improving,  the  chances  of  virus spreading will decrease. In situations where we need to update our‘beliefs’ about a certain variable as new information is obtained, Bayesian Inference is used:\n",
        "1. Building  Bayesian  Models  on  large  number  of  parameters  can  be  pretty complicated. Instead, choose features from the dataset (preferably not more than 5) which give the most information.\n",
        "2. Assume a prior distribution and update your model by using data from the dataset. Visualize how your model automatically adapts to changes and trends.\n",
        "3. You can also assume an imaginary situation and feed your model artificial data to visualize if your model adapts to changing dynamics. This will help you realize the importance of choosing a well-suited prior distribution.\n",
        "4. Assume that all parameters are dependent or independent ofeach other. \n",
        "5. Optional: Are all parameters really independent. Try to see if you can figure out dependence between the parameters.\n",
        "6. Introduction    to    Bayesian    Inference    can    be    found    here: https://tinyheero.github.io/2017/03/08/how-to-bayesian-infer-101.html"
      ]
    },
    {
      "cell_type": "markdown",
      "metadata": {
        "id": "jVablHCk8EGE"
      },
      "source": [
        "- Keeping on 5 features"
      ]
    },
    {
      "cell_type": "code",
      "metadata": {
        "id": "nIKha7vE8-Iy",
        "colab": {
          "base_uri": "https://localhost:8080/",
          "height": 419
        },
        "outputId": "2e70cbeb-b7cb-4316-e1d6-f8cb18a427ab"
      },
      "source": [
        "data = data.drop(\"anemia\", axis=1)\n",
        "data = data.drop('specific_gravity', axis=1)\n",
        "data = data.drop('pus_cell', axis=1)\n",
        "data = data.drop('pus_cell_clumps', axis=1)\n",
        "data = data.drop('bacteria', axis=1)\n",
        "data = data.drop('potassium', axis=1)\n",
        "data = data.drop('packed_cell_volume', axis=1)\n",
        "data = data.drop('albumin', axis=1)\n",
        "data = data.drop('sugar', axis=1)\n",
        "data = data.drop('white_blood_cell_count', axis=1)\n",
        "data = data.drop('red_blood_cells', axis=1)\n",
        "data = data.drop('hypertension', axis=1)\n",
        "data = data.drop('diabetes_mellitus', axis=1)\n",
        "data = data.drop('coronary_artery_disease', axis=1)\n",
        "data = data.drop('appetite', axis=1)\n",
        "data = data.drop('sodium', axis=1)\n",
        "data = data.drop('pedal_edema', axis=1)\n",
        "data = data.drop('serum_creatinine', axis=1)\n",
        "data = data.drop('haemoglobinhaemoglobin', axis=1)\n",
        "data = data.drop('age', axis=1)\n",
        "\n",
        "data"
      ],
      "execution_count": null,
      "outputs": [
        {
          "output_type": "execute_result",
          "data": {
            "text/html": [
              "<div>\n",
              "<style scoped>\n",
              "    .dataframe tbody tr th:only-of-type {\n",
              "        vertical-align: middle;\n",
              "    }\n",
              "\n",
              "    .dataframe tbody tr th {\n",
              "        vertical-align: top;\n",
              "    }\n",
              "\n",
              "    .dataframe thead th {\n",
              "        text-align: right;\n",
              "    }\n",
              "</style>\n",
              "<table border=\"1\" class=\"dataframe\">\n",
              "  <thead>\n",
              "    <tr style=\"text-align: right;\">\n",
              "      <th></th>\n",
              "      <th>id</th>\n",
              "      <th>blood_pressure</th>\n",
              "      <th>blood_glucose_random</th>\n",
              "      <th>blood_urea</th>\n",
              "      <th>haemoglobin</th>\n",
              "      <th>red_blood_cell_count</th>\n",
              "      <th>classification</th>\n",
              "    </tr>\n",
              "  </thead>\n",
              "  <tbody>\n",
              "    <tr>\n",
              "      <th>0</th>\n",
              "      <td>0</td>\n",
              "      <td>80.0</td>\n",
              "      <td>121.000000</td>\n",
              "      <td>36.0</td>\n",
              "      <td>15.4</td>\n",
              "      <td>5.2</td>\n",
              "      <td>1.0</td>\n",
              "    </tr>\n",
              "    <tr>\n",
              "      <th>1</th>\n",
              "      <td>1</td>\n",
              "      <td>50.0</td>\n",
              "      <td>148.036517</td>\n",
              "      <td>18.0</td>\n",
              "      <td>11.3</td>\n",
              "      <td>5.2</td>\n",
              "      <td>1.0</td>\n",
              "    </tr>\n",
              "    <tr>\n",
              "      <th>2</th>\n",
              "      <td>2</td>\n",
              "      <td>80.0</td>\n",
              "      <td>423.000000</td>\n",
              "      <td>53.0</td>\n",
              "      <td>9.6</td>\n",
              "      <td>5.2</td>\n",
              "      <td>1.0</td>\n",
              "    </tr>\n",
              "    <tr>\n",
              "      <th>3</th>\n",
              "      <td>3</td>\n",
              "      <td>70.0</td>\n",
              "      <td>117.000000</td>\n",
              "      <td>56.0</td>\n",
              "      <td>11.2</td>\n",
              "      <td>3.9</td>\n",
              "      <td>1.0</td>\n",
              "    </tr>\n",
              "    <tr>\n",
              "      <th>4</th>\n",
              "      <td>4</td>\n",
              "      <td>80.0</td>\n",
              "      <td>106.000000</td>\n",
              "      <td>26.0</td>\n",
              "      <td>11.6</td>\n",
              "      <td>4.6</td>\n",
              "      <td>1.0</td>\n",
              "    </tr>\n",
              "    <tr>\n",
              "      <th>...</th>\n",
              "      <td>...</td>\n",
              "      <td>...</td>\n",
              "      <td>...</td>\n",
              "      <td>...</td>\n",
              "      <td>...</td>\n",
              "      <td>...</td>\n",
              "      <td>...</td>\n",
              "    </tr>\n",
              "    <tr>\n",
              "      <th>395</th>\n",
              "      <td>395</td>\n",
              "      <td>80.0</td>\n",
              "      <td>140.000000</td>\n",
              "      <td>49.0</td>\n",
              "      <td>15.7</td>\n",
              "      <td>4.9</td>\n",
              "      <td>0.0</td>\n",
              "    </tr>\n",
              "    <tr>\n",
              "      <th>396</th>\n",
              "      <td>396</td>\n",
              "      <td>70.0</td>\n",
              "      <td>75.000000</td>\n",
              "      <td>31.0</td>\n",
              "      <td>16.5</td>\n",
              "      <td>6.2</td>\n",
              "      <td>0.0</td>\n",
              "    </tr>\n",
              "    <tr>\n",
              "      <th>397</th>\n",
              "      <td>397</td>\n",
              "      <td>80.0</td>\n",
              "      <td>100.000000</td>\n",
              "      <td>26.0</td>\n",
              "      <td>15.8</td>\n",
              "      <td>5.4</td>\n",
              "      <td>0.0</td>\n",
              "    </tr>\n",
              "    <tr>\n",
              "      <th>398</th>\n",
              "      <td>398</td>\n",
              "      <td>60.0</td>\n",
              "      <td>114.000000</td>\n",
              "      <td>50.0</td>\n",
              "      <td>14.2</td>\n",
              "      <td>5.9</td>\n",
              "      <td>0.0</td>\n",
              "    </tr>\n",
              "    <tr>\n",
              "      <th>399</th>\n",
              "      <td>399</td>\n",
              "      <td>80.0</td>\n",
              "      <td>131.000000</td>\n",
              "      <td>18.0</td>\n",
              "      <td>15.8</td>\n",
              "      <td>6.1</td>\n",
              "      <td>0.0</td>\n",
              "    </tr>\n",
              "  </tbody>\n",
              "</table>\n",
              "<p>400 rows × 7 columns</p>\n",
              "</div>"
            ],
            "text/plain": [
              "      id  blood_pressure  ...  red_blood_cell_count  classification\n",
              "0      0            80.0  ...                   5.2             1.0\n",
              "1      1            50.0  ...                   5.2             1.0\n",
              "2      2            80.0  ...                   5.2             1.0\n",
              "3      3            70.0  ...                   3.9             1.0\n",
              "4      4            80.0  ...                   4.6             1.0\n",
              "..   ...             ...  ...                   ...             ...\n",
              "395  395            80.0  ...                   4.9             0.0\n",
              "396  396            70.0  ...                   6.2             0.0\n",
              "397  397            80.0  ...                   5.4             0.0\n",
              "398  398            60.0  ...                   5.9             0.0\n",
              "399  399            80.0  ...                   6.1             0.0\n",
              "\n",
              "[400 rows x 7 columns]"
            ]
          },
          "metadata": {
            "tags": []
          },
          "execution_count": 24
        }
      ]
    },
    {
      "cell_type": "markdown",
      "metadata": {
        "id": "1PVQ-o81oYu-"
      },
      "source": [
        "- Taking Random Data"
      ]
    },
    {
      "cell_type": "markdown",
      "metadata": {
        "id": "dCIBcgist55O"
      },
      "source": [
        "Model made using https://juanitorduz.github.io/intro_pymc3/"
      ]
    },
    {
      "cell_type": "code",
      "metadata": {
        "colab": {
          "base_uri": "https://localhost:8080/"
        },
        "id": "6gUhQVVjlPbf",
        "outputId": "8d6acc7b-27cb-4210-b6f2-87d78715f6f0"
      },
      "source": [
        "\n",
        "\n",
        "# We set a seed so that the results are reproducible.\n",
        "np.random.seed(5)\n",
        "\n",
        "# number of samples.\n",
        "n = 100\n",
        "\n",
        "# true parameter.\n",
        "lam_true = 2\n",
        "\n",
        "# sample array.\n",
        "y = np.random.poisson(lam=lam_true, size=n)\n",
        "\n",
        "y"
      ],
      "execution_count": null,
      "outputs": [
        {
          "output_type": "execute_result",
          "data": {
            "text/plain": [
              "array([2, 4, 1, 0, 2, 2, 2, 2, 1, 1, 3, 2, 0, 1, 3, 3, 4, 2, 0, 0, 3, 6,\n",
              "       1, 2, 1, 2, 5, 2, 3, 0, 1, 3, 1, 4, 1, 2, 4, 0, 6, 4, 1, 2, 2, 0,\n",
              "       1, 2, 4, 4, 1, 3, 0, 3, 3, 2, 4, 2, 2, 1, 1, 2, 5, 2, 3, 0, 1, 1,\n",
              "       1, 3, 4, 1, 3, 4, 2, 1, 2, 4, 2, 2, 1, 0, 2, 2, 3, 0, 3, 3, 4, 2,\n",
              "       2, 1, 2, 1, 3, 0, 1, 0, 3, 3, 1, 2])"
            ]
          },
          "metadata": {
            "tags": []
          },
          "execution_count": 25
        }
      ]
    },
    {
      "cell_type": "code",
      "metadata": {
        "colab": {
          "base_uri": "https://localhost:8080/",
          "height": 393
        },
        "id": "Fo7_NrpVlQjN",
        "outputId": "1e6a9b3d-66f0-4a7b-93c5-69777b065ece"
      },
      "source": [
        "\n",
        "%matplotlib inline\n",
        "\n",
        "# Histogram of the sample.\n",
        "plt.figure(figsize=(8, 6))\n",
        "plt.hist(y, bins=15)\n",
        "plt.title('Histogram of Simulated Data');"
      ],
      "execution_count": null,
      "outputs": [
        {
          "output_type": "display_data",
          "data": {
            "image/png": "[encoded data removed]",
            "text/plain": [
              "<Figure size 576x432 with 1 Axes>"
            ]
          },
          "metadata": {
            "tags": [],
            "needs_background": "light"
          }
        }
      ]
    },
    {
      "cell_type": "code",
      "metadata": {
        "colab": {
          "base_uri": "https://localhost:8080/",
          "height": 393
        },
        "id": "bT25qPaplWs_",
        "outputId": "c2e01500-e635-4f80-eb98-65bcf9cef81b"
      },
      "source": [
        "# Parameters of the prior gamma distribution.\n",
        "a = 3.5 # shape\n",
        "b = 2 # rate = 1/scale\n",
        "\n",
        "x = np.linspace(start=0, stop=10, num=100)\n",
        "\n",
        "plt.figure(figsize=(8, 6))\n",
        "plt.plot(x, ss.gamma.pdf(x,a=a,scale=1/b), 'r-')\n",
        "plt.title('Gamma Density Function for a={} and b={}'.format(a,b))\n",
        "\n",
        "# Define the prior distribution.\n",
        "prior = lambda x: ss.gamma.pdf(x, a=a, scale=1/b)"
      ],
      "execution_count": null,
      "outputs": [
        {
          "output_type": "display_data",
          "data": {
            "image/png": "[encoded data removed]",
            "text/plain": [
              "<Figure size 576x432 with 1 Axes>"
            ]
          },
          "metadata": {
            "tags": [],
            "needs_background": "light"
          }
        }
      ]
    },
    {
      "cell_type": "code",
      "metadata": {
        "id": "Xl5r6DxZlbhQ"
      },
      "source": [
        ""
      ],
      "execution_count": null,
      "outputs": []
    },
    {
      "cell_type": "code",
      "metadata": {
        "id": "oRz8EZm8laCm"
      },
      "source": [
        "import scipy.special as sp\n",
        "\n",
        "# Define the likelihood function.\n",
        "def likelihood(lam,y):\n",
        "    \n",
        "    factorials = np.apply_along_axis(\n",
        "        lambda x: sp.gamma(x+1),\n",
        "        axis=0,\n",
        "        arr=y\n",
        "    )\n",
        "    \n",
        "    numerator = np.exp(-lam*y.size)*(lam**y.sum())\n",
        "    \n",
        "    denominator = np.multiply.reduce(factorials)\n",
        "    \n",
        "    return numerator/denominator  "
      ],
      "execution_count": null,
      "outputs": []
    },
    {
      "cell_type": "code",
      "metadata": {
        "colab": {
          "base_uri": "https://localhost:8080/",
          "height": 377
        },
        "id": "oNZL539DlhIR",
        "outputId": "a601053c-705f-4b4e-cf1e-1938875394d0"
      },
      "source": [
        "# Define the posterior distribution.\n",
        "# (up to a constant)\n",
        "def posterior_up_to_constant(lam,y):\n",
        "    return likelihood(lam,y)*prior(lam)\n",
        "\n",
        "# Plot of the prior and (scaled) posterior distribution\n",
        "# for the parameter lambda.\n",
        "#\n",
        "# We multiply the posterior distrubution function\n",
        "# by the amplitude factor 2.5e74 to make it comparable\n",
        "# with the prior gamma distribution.\n",
        "plt.figure(figsize=(8, 6))\n",
        "plt.plot(x, 2.0e74*posterior_up_to_constant(x,y), label='posterior')\n",
        "plt.plot(x, ss.gamma.pdf(x,a=a,scale=1/b), 'r-', label='prior')\n",
        "plt.legend();"
      ],
      "execution_count": null,
      "outputs": [
        {
          "output_type": "display_data",
          "data": {
            "image/png": "[encoded data removed]",
            "text/plain": [
              "<Figure size 576x432 with 1 Axes>"
            ]
          },
          "metadata": {
            "tags": [],
            "needs_background": "light"
          }
        }
      ]
    },
    {
      "cell_type": "code",
      "metadata": {
        "colab": {
          "base_uri": "https://localhost:8080/",
          "height": 393
        },
        "id": "AtZABFGjlkp-",
        "outputId": "407cf47a-4af2-45d9-972a-982d8dae797d"
      },
      "source": [
        "def posterior(lam,y):\n",
        "    \n",
        "    shape = a + y.sum()\n",
        "    rate = b + y.size\n",
        "    \n",
        "    return ss.gamma.pdf(lam, shape, scale=1/rate)\n",
        "\n",
        "plt.figure(figsize=(8, 6))\n",
        "plt.plot(x, posterior(x,y))\n",
        "plt.plot(x, ss.gamma.pdf(x,a=a,scale=1/b), 'r-')\n",
        "plt.title('Prior and Posterior Distributions');"
      ],
      "execution_count": null,
      "outputs": [
        {
          "output_type": "display_data",
          "data": {
            "image/png": "[encoded data removed]",
            "text/plain": [
              "<Figure size 576x432 with 1 Axes>"
            ]
          },
          "metadata": {
            "tags": [],
            "needs_background": "light"
          }
        }
      ]
    },
    {
      "cell_type": "code",
      "metadata": {
        "colab": {
          "base_uri": "https://localhost:8080/"
        },
        "id": "dR-f0TLclnUW",
        "outputId": "448540f7-3974-4638-e4f6-105b1bb41947"
      },
      "source": [
        "shape = a + y.sum()\n",
        "rate = b + y.size\n",
        "\n",
        "# Posterior mean.\n",
        "shape/rate\n"
      ],
      "execution_count": null,
      "outputs": [
        {
          "output_type": "execute_result",
          "data": {
            "text/plain": [
              "2.053921568627451"
            ]
          },
          "metadata": {
            "tags": []
          },
          "execution_count": 31
        }
      ]
    },
    {
      "cell_type": "markdown",
      "metadata": {
        "id": "Otqj4MYlo8P0"
      },
      "source": [
        "- Taking haemoglobin"
      ]
    },
    {
      "cell_type": "code",
      "metadata": {
        "colab": {
          "base_uri": "https://localhost:8080/"
        },
        "id": "Cg2wlBUHo4-x",
        "outputId": "246f1f2d-188b-4830-ba4f-f034f7f1d5e0"
      },
      "source": [
        "\n",
        "\n",
        "\n",
        "# sample array.\n",
        "y = pd.DataFrame(data['haemoglobin']).to_numpy()\n",
        "\n",
        "y"
      ],
      "execution_count": null,
      "outputs": [
        {
          "output_type": "execute_result",
          "data": {
            "text/plain": [
              "array([[15.4],\n",
              "       [11.3],\n",
              "       [ 9.6],\n",
              "       [11.2],\n",
              "       [11.6],\n",
              "       [12.2],\n",
              "       [12.4],\n",
              "       [12.4],\n",
              "       [10.8],\n",
              "       [ 9.5],\n",
              "       [ 9.4],\n",
              "       [10.8],\n",
              "       [ 9.7],\n",
              "       [ 9.8],\n",
              "       [ 5.6],\n",
              "       [ 7.6],\n",
              "       [12.6],\n",
              "       [12.1],\n",
              "       [12.7],\n",
              "       [10.3],\n",
              "       [ 7.7],\n",
              "       [10.9],\n",
              "       [ 9.8],\n",
              "       [ 9.8],\n",
              "       [11.1],\n",
              "       [ 9.9],\n",
              "       [11.6],\n",
              "       [12.5],\n",
              "       [12.5],\n",
              "       [12.9],\n",
              "       [12.9],\n",
              "       [10.1],\n",
              "       [11.3],\n",
              "       [10.1],\n",
              "       [10.1],\n",
              "       [12. ],\n",
              "       [10.3],\n",
              "       [ 9.7],\n",
              "       [12.5],\n",
              "       [13. ],\n",
              "       [11.1],\n",
              "       [11.1],\n",
              "       [ 9.7],\n",
              "       [ 7.9],\n",
              "       [ 9.7],\n",
              "       [ 9.3],\n",
              "       [12.4],\n",
              "       [15. ],\n",
              "       [10. ],\n",
              "       [ 9.7],\n",
              "       [ 8.6],\n",
              "       [10.3],\n",
              "       [10.9],\n",
              "       [13.6],\n",
              "       [13. ],\n",
              "       [ 9.5],\n",
              "       [10.2],\n",
              "       [10.2],\n",
              "       [10.5],\n",
              "       [ 6.6],\n",
              "       [ 6.6],\n",
              "       [ 6.6],\n",
              "       [11. ],\n",
              "       [ 7.5],\n",
              "       [ 9.8],\n",
              "       [15. ],\n",
              "       [15. ],\n",
              "       [15. ],\n",
              "       [10.9],\n",
              "       [15.6],\n",
              "       [15.2],\n",
              "       [ 9.8],\n",
              "       [10.3],\n",
              "       [ 4.8],\n",
              "       [ 9.1],\n",
              "       [ 8.1],\n",
              "       [10.3],\n",
              "       [11.9],\n",
              "       [10.1],\n",
              "       [13.5],\n",
              "       [10.8],\n",
              "       [ 8.3],\n",
              "       [ 8.3],\n",
              "       [ 8.3],\n",
              "       [ 7.1],\n",
              "       [ 9.9],\n",
              "       [ 9.9],\n",
              "       [11.1],\n",
              "       [11.1],\n",
              "       [11.1],\n",
              "       [13. ],\n",
              "       [16.1],\n",
              "       [10.4],\n",
              "       [ 9.2],\n",
              "       [11.6],\n",
              "       [11.6],\n",
              "       [11.2],\n",
              "       [10. ],\n",
              "       [ 6.2],\n",
              "       [11.2],\n",
              "       [11.2],\n",
              "       [11.3],\n",
              "       [13.9],\n",
              "       [10.2],\n",
              "       [10.2],\n",
              "       [14.1],\n",
              "       [ 6. ],\n",
              "       [11.2],\n",
              "       [11.8],\n",
              "       [11.7],\n",
              "       [11.7],\n",
              "       [10. ],\n",
              "       [10.8],\n",
              "       [10.8],\n",
              "       [12.1],\n",
              "       [12.4],\n",
              "       [12.4],\n",
              "       [12.5],\n",
              "       [11.4],\n",
              "       [11.4],\n",
              "       [12.6],\n",
              "       [15. ],\n",
              "       [ 6. ],\n",
              "       [14. ],\n",
              "       [ 9.1],\n",
              "       [ 9.1],\n",
              "       [12. ],\n",
              "       [11.4],\n",
              "       [ 8.1],\n",
              "       [11.1],\n",
              "       [ 8.2],\n",
              "       [11.8],\n",
              "       [ 8.6],\n",
              "       [12. ],\n",
              "       [10.8],\n",
              "       [13.2],\n",
              "       [ 9.3],\n",
              "       [10. ],\n",
              "       [10. ],\n",
              "       [11.1],\n",
              "       [11.1],\n",
              "       [ 6.1],\n",
              "       [ 6.1],\n",
              "       [ 6.1],\n",
              "       [11.1],\n",
              "       [ 8. ],\n",
              "       [ 8. ],\n",
              "       [ 7.9],\n",
              "       [ 7.9],\n",
              "       [10.5],\n",
              "       [12.3],\n",
              "       [ 9.6],\n",
              "       [10.9],\n",
              "       [ 8.3],\n",
              "       [ 8.4],\n",
              "       [11.1],\n",
              "       [11.1],\n",
              "       [12.6],\n",
              "       [10.9],\n",
              "       [10.4],\n",
              "       [10.9],\n",
              "       [14.3],\n",
              "       [ 9.8],\n",
              "       [ 9. ],\n",
              "       [14.3],\n",
              "       [14.3],\n",
              "       [14.3],\n",
              "       [12.7],\n",
              "       [11. ],\n",
              "       [ 8.7],\n",
              "       [12.5],\n",
              "       [ 8.7],\n",
              "       [10.6],\n",
              "       [13.1],\n",
              "       [11. ],\n",
              "       [11. ],\n",
              "       [ 8.3],\n",
              "       [13.2],\n",
              "       [ 9.8],\n",
              "       [11.9],\n",
              "       [10.3],\n",
              "       [10. ],\n",
              "       [11.3],\n",
              "       [11.3],\n",
              "       [11.3],\n",
              "       [12. ],\n",
              "       [12. ],\n",
              "       [10.7],\n",
              "       [12.2],\n",
              "       [ 9.5],\n",
              "       [ 9.9],\n",
              "       [ 9.1],\n",
              "       [ 9.1],\n",
              "       [ 5.5],\n",
              "       [ 5.5],\n",
              "       [ 5.8],\n",
              "       [ 8.1],\n",
              "       [ 6.8],\n",
              "       [11.2],\n",
              "       [ 8.8],\n",
              "       [12. ],\n",
              "       [ 7.9],\n",
              "       [ 8. ],\n",
              "       [ 8.5],\n",
              "       [ 8.8],\n",
              "       [12.6],\n",
              "       [13.8],\n",
              "       [12. ],\n",
              "       [12.3],\n",
              "       [11.5],\n",
              "       [ 7.3],\n",
              "       [ 7.3],\n",
              "       [10.9],\n",
              "       [10.9],\n",
              "       [13.7],\n",
              "       [13.7],\n",
              "       [12.8],\n",
              "       [12.2],\n",
              "       [11.8],\n",
              "       [ 9.8],\n",
              "       [11.9],\n",
              "       [11.9],\n",
              "       [11.9],\n",
              "       [13. ],\n",
              "       [13. ],\n",
              "       [11.5],\n",
              "       [ 7.9],\n",
              "       [11.3],\n",
              "       [11.3],\n",
              "       [ 9.6],\n",
              "       [ 9.6],\n",
              "       [11.5],\n",
              "       [11.5],\n",
              "       [11.5],\n",
              "       [15. ],\n",
              "       [ 7.9],\n",
              "       [ 9.1],\n",
              "       [12.7],\n",
              "       [ 9.4],\n",
              "       [11.9],\n",
              "       [11.4],\n",
              "       [10.4],\n",
              "       [ 9.4],\n",
              "       [13.4],\n",
              "       [12.2],\n",
              "       [ 6.3],\n",
              "       [ 8.6],\n",
              "       [ 8.6],\n",
              "       [12.6],\n",
              "       [ 3.1],\n",
              "       [15. ],\n",
              "       [17. ],\n",
              "       [15.9],\n",
              "       [15.4],\n",
              "       [13. ],\n",
              "       [13.6],\n",
              "       [14.5],\n",
              "       [14. ],\n",
              "       [13.9],\n",
              "       [16.1],\n",
              "       [14.1],\n",
              "       [17. ],\n",
              "       [15.5],\n",
              "       [16.2],\n",
              "       [14.4],\n",
              "       [14.2],\n",
              "       [13.2],\n",
              "       [13.9],\n",
              "       [16.3],\n",
              "       [15. ],\n",
              "       [14.3],\n",
              "       [13.8],\n",
              "       [14.8],\n",
              "       [14.8],\n",
              "       [14.4],\n",
              "       [16.5],\n",
              "       [14. ],\n",
              "       [15.7],\n",
              "       [14.5],\n",
              "       [16.3],\n",
              "       [13.3],\n",
              "       [15.5],\n",
              "       [14.6],\n",
              "       [16.4],\n",
              "       [16.9],\n",
              "       [16. ],\n",
              "       [14.7],\n",
              "       [13.4],\n",
              "       [15.9],\n",
              "       [16.6],\n",
              "       [14.8],\n",
              "       [14.9],\n",
              "       [16.7],\n",
              "       [14.9],\n",
              "       [14.3],\n",
              "       [15. ],\n",
              "       [16.8],\n",
              "       [15.8],\n",
              "       [13.5],\n",
              "       [15.1],\n",
              "       [15. ],\n",
              "       [16.9],\n",
              "       [14.8],\n",
              "       [17. ],\n",
              "       [13.1],\n",
              "       [17.1],\n",
              "       [15.2],\n",
              "       [13.6],\n",
              "       [13.9],\n",
              "       [17.2],\n",
              "       [13.2],\n",
              "       [13.7],\n",
              "       [15.3],\n",
              "       [17.3],\n",
              "       [15.6],\n",
              "       [13.8],\n",
              "       [15.4],\n",
              "       [15. ],\n",
              "       [17.4],\n",
              "       [17.4],\n",
              "       [15.7],\n",
              "       [13.9],\n",
              "       [16. ],\n",
              "       [15.9],\n",
              "       [15.9],\n",
              "       [14. ],\n",
              "       [15.8],\n",
              "       [13.4],\n",
              "       [13.4],\n",
              "       [14.1],\n",
              "       [14.1],\n",
              "       [13.5],\n",
              "       [15.3],\n",
              "       [17.7],\n",
              "       [15.4],\n",
              "       [14.2],\n",
              "       [15.2],\n",
              "       [14. ],\n",
              "       [17.8],\n",
              "       [13.3],\n",
              "       [14.3],\n",
              "       [13.4],\n",
              "       [15. ],\n",
              "       [16.2],\n",
              "       [14.4],\n",
              "       [13.5],\n",
              "       [15.5],\n",
              "       [17.8],\n",
              "       [13.6],\n",
              "       [14.5],\n",
              "       [16.1],\n",
              "       [17.5],\n",
              "       [15. ],\n",
              "       [13.6],\n",
              "       [14.6],\n",
              "       [15. ],\n",
              "       [17.1],\n",
              "       [13.6],\n",
              "       [13. ],\n",
              "       [17.2],\n",
              "       [14.7],\n",
              "       [13.7],\n",
              "       [15. ],\n",
              "       [17.8],\n",
              "       [14.8],\n",
              "       [14.8],\n",
              "       [15. ],\n",
              "       [17.4],\n",
              "       [14.9],\n",
              "       [13.6],\n",
              "       [16.2],\n",
              "       [17.6],\n",
              "       [15. ],\n",
              "       [13.7],\n",
              "       [16.3],\n",
              "       [15.1],\n",
              "       [16.4],\n",
              "       [13.8],\n",
              "       [15.2],\n",
              "       [16.1],\n",
              "       [15.3],\n",
              "       [16.6],\n",
              "       [16.8],\n",
              "       [13.9],\n",
              "       [15.4],\n",
              "       [16.5],\n",
              "       [16.4],\n",
              "       [16.7],\n",
              "       [15.5],\n",
              "       [17. ],\n",
              "       [15. ],\n",
              "       [15.6],\n",
              "       [14.8],\n",
              "       [13. ],\n",
              "       [14.1],\n",
              "       [15.7],\n",
              "       [16.5],\n",
              "       [15.8],\n",
              "       [14.2],\n",
              "       [15.8]])"
            ]
          },
          "metadata": {
            "tags": []
          },
          "execution_count": 32
        }
      ]
    },
    {
      "cell_type": "code",
      "metadata": {
        "colab": {
          "base_uri": "https://localhost:8080/",
          "height": 393
        },
        "id": "POXug26Vpe-k",
        "outputId": "8ce0a26a-c366-4ff2-9f57-5eb538bd81e7"
      },
      "source": [
        "%matplotlib inline\n",
        "\n",
        "# Histogram of the sample.\n",
        "plt.figure(figsize=(8, 6))\n",
        "plt.hist(y, bins=15)\n",
        "plt.title('Histogram of Simulated Data');"
      ],
      "execution_count": null,
      "outputs": [
        {
          "output_type": "display_data",
          "data": {
            "image/png": "[encoded data removed]",
            "text/plain": [
              "<Figure size 576x432 with 1 Axes>"
            ]
          },
          "metadata": {
            "tags": [],
            "needs_background": "light"
          }
        }
      ]
    },
    {
      "cell_type": "code",
      "metadata": {
        "colab": {
          "base_uri": "https://localhost:8080/",
          "height": 393
        },
        "id": "ojet2udNpilt",
        "outputId": "385a9e56-dc6b-45ab-f115-eef921b5b749"
      },
      "source": [
        "# Parameters of the prior gamma distribution.\n",
        "a = 3.5 # shape\n",
        "b = 2 # rate = 1/scale\n",
        "\n",
        "x = pd.DataFrame(data['classification']).to_numpy()\n",
        "\n",
        "plt.figure(figsize=(8, 6))\n",
        "plt.plot(x, ss.gamma.pdf(x,a=a,scale=1/b), 'r-')\n",
        "plt.title('Gamma Density Function for a={} and b={}'.format(a,b))\n",
        "\n",
        "# Define the prior distribution.\n",
        "prior = lambda x: ss.gamma.pdf(x, a=a, scale=1/b)"
      ],
      "execution_count": null,
      "outputs": [
        {
          "output_type": "display_data",
          "data": {
            "image/png": "[encoded data removed]",
            "text/plain": [
              "<Figure size 576x432 with 1 Axes>"
            ]
          },
          "metadata": {
            "tags": [],
            "needs_background": "light"
          }
        }
      ]
    },
    {
      "cell_type": "code",
      "metadata": {
        "id": "uwDy0mQ4pmY2"
      },
      "source": [
        "# Define the likelihood function.\n",
        "def likelihood(lam,y):\n",
        "    \n",
        "    factorials = np.apply_along_axis(\n",
        "        lambda x: sp.gamma(x+1),\n",
        "        axis=0,\n",
        "        arr=y\n",
        "    )\n",
        "    \n",
        "    numerator = np.exp(-lam*y.size)*(lam**y.sum())\n",
        "    \n",
        "    denominator = np.multiply.reduce(factorials)\n",
        "    \n",
        "    return numerator/denominator "
      ],
      "execution_count": null,
      "outputs": []
    },
    {
      "cell_type": "code",
      "metadata": {
        "colab": {
          "base_uri": "https://localhost:8080/",
          "height": 411
        },
        "id": "G9YgJXZWppkm",
        "outputId": "a9b94237-8260-46c2-e464-03dad49ebd09"
      },
      "source": [
        "# Define the posterior distribution.\n",
        "# (up to a constant)\n",
        "def posterior_up_to_constant(lam,y):\n",
        "    return likelihood(lam,y)*prior(lam)\n",
        "\n",
        "# Plot of the prior and (scaled) posterior distribution\n",
        "# for the parameter lambda.\n",
        "#\n",
        "# We multiply the posterior distrubution function\n",
        "# by the amplitude factor 2.5e74 to make it comparable\n",
        "# with the prior gamma distribution.\n",
        "plt.figure(figsize=(8, 6))\n",
        "plt.plot(x, 2.0e74*posterior_up_to_constant(x,y), label='posterior')\n",
        "plt.plot(x, ss.gamma.pdf(x,a=a,scale=1/b), 'r-', label='prior')\n",
        "plt.legend();"
      ],
      "execution_count": null,
      "outputs": [
        {
          "output_type": "stream",
          "text": [
            "/usr/local/lib/python3.6/dist-packages/ipykernel_launcher.py:12: RuntimeWarning: overflow encountered in reduce\n",
            "  if sys.path[0] == '':\n"
          ],
          "name": "stderr"
        },
        {
          "output_type": "display_data",
          "data": {
            "image/png": "[encoded data removed]",
            "text/plain": [
              "<Figure size 576x432 with 1 Axes>"
            ]
          },
          "metadata": {
            "tags": [],
            "needs_background": "light"
          }
        }
      ]
    },
    {
      "cell_type": "code",
      "metadata": {
        "colab": {
          "base_uri": "https://localhost:8080/",
          "height": 393
        },
        "id": "jG9nJZb3pt6q",
        "outputId": "b4a7084b-9b95-402b-81b5-2b3b045255e3"
      },
      "source": [
        "def posterior(lam,y):\n",
        "    \n",
        "    shape = a + y.sum()\n",
        "    rate = b + y.size\n",
        "    \n",
        "    return ss.gamma.pdf(lam, shape, scale=1/rate)\n",
        "\n",
        "plt.figure(figsize=(8, 6))\n",
        "plt.plot(x, posterior(x,y))\n",
        "plt.plot(x, ss.gamma.pdf(x,a=a,scale=1/b), 'r-')\n",
        "plt.title('Prior and Posterior Distributions');"
      ],
      "execution_count": null,
      "outputs": [
        {
          "output_type": "display_data",
          "data": {
            "image/png": "[encoded data removed]",
            "text/plain": [
              "<Figure size 576x432 with 1 Axes>"
            ]
          },
          "metadata": {
            "tags": [],
            "needs_background": "light"
          }
        }
      ]
    },
    {
      "cell_type": "code",
      "metadata": {
        "colab": {
          "base_uri": "https://localhost:8080/"
        },
        "id": "5cidLHcYpuop",
        "outputId": "93b336a9-2b73-4aa9-bdac-dc68211e72df"
      },
      "source": [
        "shape = a + y.sum()\n",
        "rate = b + y.size\n",
        "\n",
        "# Posterior mean.\n",
        "shape/rate\n"
      ],
      "execution_count": null,
      "outputs": [
        {
          "output_type": "execute_result",
          "data": {
            "text/plain": [
              "12.27960199004975"
            ]
          },
          "metadata": {
            "tags": []
          },
          "execution_count": 38
        }
      ]
    }
  ]
}